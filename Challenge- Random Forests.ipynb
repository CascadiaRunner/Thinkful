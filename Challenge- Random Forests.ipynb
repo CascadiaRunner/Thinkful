{
 "cells": [
  {
   "cell_type": "code",
   "execution_count": 16,
   "metadata": {},
   "outputs": [],
   "source": [
    "import pandas as pd\n",
    "import numpy as np\n",
    "import matplotlib.pyplot as plt\n",
    "%matplotlib inline\n",
    "import pydotplus\n",
    "# import graphviz\n",
    "from sklearn import ensemble\n",
    "from sklearn import preprocessing\n",
    "from sklearn import tree\n",
    "from sklearn.model_selection import cross_val_score\n",
    "import time"
   ]
  },
  {
   "cell_type": "code",
   "execution_count": 17,
   "metadata": {},
   "outputs": [
    {
     "data": {
      "text/html": [
       "<div>\n",
       "<style scoped>\n",
       "    .dataframe tbody tr th:only-of-type {\n",
       "        vertical-align: middle;\n",
       "    }\n",
       "\n",
       "    .dataframe tbody tr th {\n",
       "        vertical-align: top;\n",
       "    }\n",
       "\n",
       "    .dataframe thead th {\n",
       "        text-align: right;\n",
       "    }\n",
       "</style>\n",
       "<table border=\"1\" class=\"dataframe\">\n",
       "  <thead>\n",
       "    <tr style=\"text-align: right;\">\n",
       "      <th></th>\n",
       "      <th>Category</th>\n",
       "      <th>Rating</th>\n",
       "      <th>Reviews</th>\n",
       "      <th>Size</th>\n",
       "      <th>Installs</th>\n",
       "      <th>Type</th>\n",
       "      <th>Price</th>\n",
       "      <th>Content Rating</th>\n",
       "      <th>Genres</th>\n",
       "      <th>Android Ver</th>\n",
       "    </tr>\n",
       "  </thead>\n",
       "  <tbody>\n",
       "    <tr>\n",
       "      <th>0</th>\n",
       "      <td>ART_AND_DESIGN</td>\n",
       "      <td>4.1</td>\n",
       "      <td>159.0</td>\n",
       "      <td>NaN</td>\n",
       "      <td>10,000+</td>\n",
       "      <td>Free</td>\n",
       "      <td>0.0</td>\n",
       "      <td>Everyone</td>\n",
       "      <td>Art &amp; Design</td>\n",
       "      <td>4.0.3 and up</td>\n",
       "    </tr>\n",
       "    <tr>\n",
       "      <th>1</th>\n",
       "      <td>ART_AND_DESIGN</td>\n",
       "      <td>3.9</td>\n",
       "      <td>967.0</td>\n",
       "      <td>NaN</td>\n",
       "      <td>500,000+</td>\n",
       "      <td>Free</td>\n",
       "      <td>0.0</td>\n",
       "      <td>Everyone</td>\n",
       "      <td>Art &amp; Design;Pretend Play</td>\n",
       "      <td>4.0.3 and up</td>\n",
       "    </tr>\n",
       "    <tr>\n",
       "      <th>2</th>\n",
       "      <td>ART_AND_DESIGN</td>\n",
       "      <td>4.7</td>\n",
       "      <td>87510.0</td>\n",
       "      <td>NaN</td>\n",
       "      <td>5,000,000+</td>\n",
       "      <td>Free</td>\n",
       "      <td>0.0</td>\n",
       "      <td>Everyone</td>\n",
       "      <td>Art &amp; Design</td>\n",
       "      <td>4.0.3 and up</td>\n",
       "    </tr>\n",
       "    <tr>\n",
       "      <th>3</th>\n",
       "      <td>ART_AND_DESIGN</td>\n",
       "      <td>4.5</td>\n",
       "      <td>215644.0</td>\n",
       "      <td>NaN</td>\n",
       "      <td>50,000,000+</td>\n",
       "      <td>Free</td>\n",
       "      <td>0.0</td>\n",
       "      <td>Teen</td>\n",
       "      <td>Art &amp; Design</td>\n",
       "      <td>4.2 and up</td>\n",
       "    </tr>\n",
       "    <tr>\n",
       "      <th>4</th>\n",
       "      <td>ART_AND_DESIGN</td>\n",
       "      <td>4.3</td>\n",
       "      <td>967.0</td>\n",
       "      <td>NaN</td>\n",
       "      <td>100,000+</td>\n",
       "      <td>Free</td>\n",
       "      <td>0.0</td>\n",
       "      <td>Everyone</td>\n",
       "      <td>Art &amp; Design;Creativity</td>\n",
       "      <td>4.4 and up</td>\n",
       "    </tr>\n",
       "  </tbody>\n",
       "</table>\n",
       "</div>"
      ],
      "text/plain": [
       "         Category  Rating   Reviews  Size     Installs  Type  Price  \\\n",
       "0  ART_AND_DESIGN     4.1     159.0   NaN      10,000+  Free    0.0   \n",
       "1  ART_AND_DESIGN     3.9     967.0   NaN     500,000+  Free    0.0   \n",
       "2  ART_AND_DESIGN     4.7   87510.0   NaN   5,000,000+  Free    0.0   \n",
       "3  ART_AND_DESIGN     4.5  215644.0   NaN  50,000,000+  Free    0.0   \n",
       "4  ART_AND_DESIGN     4.3     967.0   NaN     100,000+  Free    0.0   \n",
       "\n",
       "  Content Rating                     Genres   Android Ver  \n",
       "0       Everyone               Art & Design  4.0.3 and up  \n",
       "1       Everyone  Art & Design;Pretend Play  4.0.3 and up  \n",
       "2       Everyone               Art & Design  4.0.3 and up  \n",
       "3           Teen               Art & Design    4.2 and up  \n",
       "4       Everyone    Art & Design;Creativity    4.4 and up  "
      ]
     },
     "execution_count": 17,
     "metadata": {},
     "output_type": "execute_result"
    }
   ],
   "source": [
    "apps_df = pd.read_csv(\"C:\\\\Users\\\\Chris\\\\Documents\\\\Python Scripts\\\\Thinkful File Examples\\\\googlestoreapps\\\\googleplaystore.csv\")\n",
    "\n",
    "# Convert to numeric.\n",
    "# apps_df['Rating'] = pd.to_numeric(apps_df['Rating'], errors='coerce')\n",
    "apps_df['Reviews'] = pd.to_numeric(apps_df['Reviews'], errors='coerce')\n",
    "apps_df['Price'] = pd.to_numeric(apps_df['Price'], errors='coerce')\n",
    "apps_df['Size'] = pd.to_numeric(apps_df['Size'], errors='coerce')\n",
    "\n",
    "# Drop other columns with many unique variables\n",
    "apps_df.drop(['App', 'Last Updated', 'Current Ver'], 1, inplace=True)\n",
    "apps_df = apps_df.dropna(subset=['Content Rating'])\n",
    "apps_df.head()\n"
   ]
  },
  {
   "cell_type": "code",
   "execution_count": 18,
   "metadata": {},
   "outputs": [
    {
     "name": "stdout",
     "output_type": "stream",
     "text": [
      "Category\n",
      "33\n",
      "Installs\n",
      "21\n",
      "Type\n",
      "2\n",
      "Content Rating\n",
      "6\n",
      "Genres\n",
      "119\n",
      "Android Ver\n",
      "33\n"
     ]
    }
   ],
   "source": [
    "categorical = apps_df.select_dtypes(include=['object'])\n",
    "for i in categorical:\n",
    "    column = categorical[i]\n",
    "    print(i)\n",
    "    print(column.nunique())"
   ]
  },
  {
   "cell_type": "code",
   "execution_count": 19,
   "metadata": {},
   "outputs": [],
   "source": [
    "X = apps_df.drop('Content Rating', axis=1)\n",
    "Y = apps_df['Content Rating']\n",
    "X = pd.get_dummies(X)\n",
    "X = X.dropna(axis=1)"
   ]
  },
  {
   "cell_type": "code",
   "execution_count": 20,
   "metadata": {},
   "outputs": [
    {
     "data": {
      "text/plain": [
       "array(['Everyone', 'Teen', 'Everyone 10+', 'Mature 17+',\n",
       "       'Adults only 18+', 'Unrated'], dtype=object)"
      ]
     },
     "execution_count": 20,
     "metadata": {},
     "output_type": "execute_result"
    }
   ],
   "source": [
    "Y.unique()"
   ]
  },
  {
   "cell_type": "code",
   "execution_count": 35,
   "metadata": {},
   "outputs": [
    {
     "name": "stdout",
     "output_type": "stream",
     "text": [
      "0.9960332103321033\n",
      "--- 0.12891912460327148 seconds ---\n"
     ]
    }
   ],
   "source": [
    "# Predict the Content Rating based on the features in X\n",
    "# Decision Tree model\n",
    "start_time = time.time()\n",
    "decision_tree = tree.DecisionTreeClassifier(\n",
    "    criterion='entropy',\n",
    "    max_features=1,\n",
    "    random_state = 1337\n",
    ")\n",
    "decision_tree.fit(X,Y)\n",
    "print(decision_tree.score(X,Y))\n",
    "print(\"--- %s seconds ---\" % (time.time() - start_time))"
   ]
  },
  {
   "cell_type": "code",
   "execution_count": 36,
   "metadata": {},
   "outputs": [
    {
     "name": "stdout",
     "output_type": "stream",
     "text": [
      "0.9808118081180812\n",
      "--- 0.4237487316131592 seconds ---\n"
     ]
    }
   ],
   "source": [
    "# Predict the Content Rating based on the features in X\n",
    "start_time = time.time()\n",
    "rfc = ensemble.RandomForestClassifier(criterion='entropy')\n",
    "rfc.fit(X,Y)\n",
    "print(rfc.score(X,Y))\n",
    "print(\"--- %s seconds ---\" % (time.time() - start_time))\n",
    "# cross_val_score(rfc, X, Y, cv=10)"
   ]
  },
  {
   "cell_type": "code",
   "execution_count": null,
   "metadata": {},
   "outputs": [],
   "source": [
    "\n",
    "\n"
   ]
  },
  {
   "cell_type": "code",
   "execution_count": null,
   "metadata": {},
   "outputs": [],
   "source": []
  }
 ],
 "metadata": {
  "kernelspec": {
   "display_name": "Python 3",
   "language": "python",
   "name": "python3"
  },
  "language_info": {
   "codemirror_mode": {
    "name": "ipython",
    "version": 3
   },
   "file_extension": ".py",
   "mimetype": "text/x-python",
   "name": "python",
   "nbconvert_exporter": "python",
   "pygments_lexer": "ipython3",
   "version": "3.6.5"
  }
 },
 "nbformat": 4,
 "nbformat_minor": 2
}
