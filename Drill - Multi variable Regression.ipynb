{
 "cells": [
  {
   "cell_type": "code",
   "execution_count": 80,
   "metadata": {},
   "outputs": [],
   "source": [
    "# Ignore warnings\n",
    "import warnings\n",
    "warnings.filterwarnings('ignore')\n",
    "import pandas as pd\n",
    "import numpy as np\n",
    "import matplotlib.pyplot as plt\n",
    "import seaborn as sns\n",
    "import math"
   ]
  },
  {
   "cell_type": "code",
   "execution_count": 81,
   "metadata": {},
   "outputs": [],
   "source": [
    "df = pd.read_csv(\"C:\\\\Users\\\\Chris\\\\Documents\\\\Python Scripts\\\\Thinkful File Examples\\\\NEW_YORK-Offenses_Known_to_Law_Enforcement_by_City_2013 - 13tbl8ny.csv\", header=4)"
   ]
  },
  {
   "cell_type": "code",
   "execution_count": 82,
   "metadata": {},
   "outputs": [],
   "source": [
    "df = pd.read_csv(\"C:\\\\Users\\\\Chris\\\\Documents\\\\Python Scripts\\\\Thinkful File Examples\\\\NEW_YORK-Offenses_Known_to_Law_Enforcement_by_City_2013 - 13tbl8ny.csv\", header=4)\n",
    "# data cleaning\n",
    "\n",
    "df['Population'] = df['Population'].str.replace(',', '')\n",
    "df['Robbery'] = df['Robbery'].str.replace(',', '')\n",
    "df['Property\\ncrime'] = df['Property\\ncrime'].str.replace(',', '')\n",
    "\n",
    "df['Population'] = pd.to_numeric(df['Population'])\n",
    "df['Population'] = df['Population']\n",
    "df['Property crime'] = pd.to_numeric(df['Property\\ncrime'])\n",
    "\n",
    "df = df.drop([348, 349, 350])\n",
    "df.fillna(0)\n",
    "df['Robbery'] = pd.to_numeric(df['Robbery'])"
   ]
  },
  {
   "cell_type": "code",
   "execution_count": 83,
   "metadata": {
    "scrolled": true
   },
   "outputs": [],
   "source": [
    "# Creates features with Murder & Robbery > 1  being True with 1 and False 0 \n",
    "df['Murder'] = (df['Murder and\\nnonnegligent\\nmanslaughter'] == 0)\n",
    "df['Robbery_x'] = (df['Robbery'] == 0)\n",
    "df['Murder'] = pd.get_dummies(df['Murder'])\n",
    "df['Robbery_x'] = pd.get_dummies(df['Robbery_x'])\n",
    "df['Pop_squared'] = df['Population']**2\n",
    "\n",
    "#Created a Logrithmic Properity crime feature that helped property crime become more linear\n",
    "\n",
    "df.iloc[df.loc[df['Property crime']==0].index, df.columns.get_loc('Property crime')] = 1\n",
    "# df.iloc[0, df.columns.get_loc('COL_NAME')] = x\n",
    "df['Property crime_2'] = np.log(df['Property crime'].astype('float64'))"
   ]
  },
  {
   "cell_type": "code",
   "execution_count": 57,
   "metadata": {},
   "outputs": [
    {
     "data": {
      "text/html": [
       "<div>\n",
       "<style scoped>\n",
       "    .dataframe tbody tr th:only-of-type {\n",
       "        vertical-align: middle;\n",
       "    }\n",
       "\n",
       "    .dataframe tbody tr th {\n",
       "        vertical-align: top;\n",
       "    }\n",
       "\n",
       "    .dataframe thead th {\n",
       "        text-align: right;\n",
       "    }\n",
       "</style>\n",
       "<table border=\"1\" class=\"dataframe\">\n",
       "  <thead>\n",
       "    <tr style=\"text-align: right;\">\n",
       "      <th></th>\n",
       "      <th>City</th>\n",
       "      <th>Population</th>\n",
       "      <th>Violent\n",
       "crime</th>\n",
       "      <th>Murder and\n",
       "nonnegligent\n",
       "manslaughter</th>\n",
       "      <th>Rape\n",
       "(revised\n",
       "definition)1</th>\n",
       "      <th>Rape\n",
       "(legacy\n",
       "definition)2</th>\n",
       "      <th>Robbery</th>\n",
       "      <th>Aggravated\n",
       "assault</th>\n",
       "      <th>Property\n",
       "crime</th>\n",
       "      <th>Burglary</th>\n",
       "      <th>Larceny-\n",
       "theft</th>\n",
       "      <th>Motor\n",
       "vehicle\n",
       "theft</th>\n",
       "      <th>Arson3</th>\n",
       "      <th>Property crime</th>\n",
       "      <th>Murder</th>\n",
       "      <th>Robbery_x</th>\n",
       "      <th>Pop_squared</th>\n",
       "      <th>Property crime_2</th>\n",
       "    </tr>\n",
       "  </thead>\n",
       "  <tbody>\n",
       "  </tbody>\n",
       "</table>\n",
       "</div>"
      ],
      "text/plain": [
       "Empty DataFrame\n",
       "Columns: [City, Population, Violent\n",
       "crime, Murder and\n",
       "nonnegligent\n",
       "manslaughter, Rape\n",
       "(revised\n",
       "definition)1, Rape\n",
       "(legacy\n",
       "definition)2, Robbery, Aggravated\n",
       "assault, Property\n",
       "crime, Burglary, Larceny-\n",
       "theft, Motor\n",
       "vehicle\n",
       "theft, Arson3, Property crime, Murder, Robbery_x, Pop_squared, Property crime_2]\n",
       "Index: []"
      ]
     },
     "execution_count": 57,
     "metadata": {},
     "output_type": "execute_result"
    }
   ],
   "source": [
    "# df.loc[df['Property crime']==0]\n",
    "# df = df.drop(index=df.loc[df['Property crime']==0].index)"
   ]
  },
  {
   "cell_type": "code",
   "execution_count": 58,
   "metadata": {},
   "outputs": [
    {
     "data": {
      "image/png": "[encoded data removed]",
      "text/plain": [
       "<Figure size 432x288 with 1 Axes>"
      ]
     },
     "metadata": {},
     "output_type": "display_data"
    }
   ],
   "source": [
    "plt.scatter(df['Murder and\\nnonnegligent\\nmanslaughter'], df['Robbery'])\n",
    "plt.show()"
   ]
  },
  {
   "cell_type": "code",
   "execution_count": 87,
   "metadata": {},
   "outputs": [
    {
     "data": {
      "text/plain": [
       "count      348.000000\n",
       "mean        72.902299\n",
       "std       1031.032873\n",
       "min          0.000000\n",
       "25%          0.000000\n",
       "50%          1.000000\n",
       "75%          5.000000\n",
       "max      19170.000000\n",
       "Name: Robbery, dtype: float64"
      ]
     },
     "execution_count": 87,
     "metadata": {},
     "output_type": "execute_result"
    }
   ],
   "source": [
    "df['Robbery'].describe()"
   ]
  },
  {
   "cell_type": "markdown",
   "metadata": {},
   "source": [
    "In this model I dropped the outliner since its values were significantly higher than all the others.  It is unclear what this geography is - NYC totals?  The parts of NYC not associated with a neighborhood?  "
   ]
  },
  {
   "cell_type": "code",
   "execution_count": 88,
   "metadata": {},
   "outputs": [
    {
     "data": {
      "text/plain": [
       "City                                         New York\n",
       "Population                                8.39613e+06\n",
       "Violent\\ncrime                                 52,384\n",
       "Murder and\\nnonnegligent\\nmanslaughter            335\n",
       "Rape\\n(revised\\ndefinition)1                      NaN\n",
       "Rape\\n(legacy\\ndefinition)2                     1,112\n",
       "Robbery                                         19170\n",
       "Aggravated\\nassault                            31,767\n",
       "Property\\ncrime                                141971\n",
       "Burglary                                       16,606\n",
       "Larceny-\\ntheft                               117,931\n",
       "Motor\\nvehicle\\ntheft                           7,434\n",
       "Arson3                                            NaN\n",
       "Property crime                                 141971\n",
       "Murder                                              1\n",
       "Robbery_x                                           1\n",
       "Pop_squared                               7.04949e+13\n",
       "Property crime_2                              11.8634\n",
       "Name: 216, dtype: object"
      ]
     },
     "execution_count": 88,
     "metadata": {},
     "output_type": "execute_result"
    }
   ],
   "source": [
    "df.iloc[216]"
   ]
  },
  {
   "cell_type": "code",
   "execution_count": 90,
   "metadata": {},
   "outputs": [
    {
     "data": {
      "text/plain": [
       "<function matplotlib.pyplot.show(*args, **kw)>"
      ]
     },
     "execution_count": 90,
     "metadata": {},
     "output_type": "execute_result"
    },
    {
     "data": {
      "image/png": "[encoded data removed]",
      "text/plain": [
       "<Figure size 432x288 with 1 Axes>"
      ]
     },
     "metadata": {},
     "output_type": "display_data"
    }
   ],
   "source": [
    "# drop NYC outlier\n",
    "df = df.drop(index=216)\n",
    "\n",
    "df['Property crime_2'].sort_values()\n",
    "plt.hist(df['Property crime_2'])\n",
    "plt.show"
   ]
  },
  {
   "cell_type": "code",
   "execution_count": 91,
   "metadata": {},
   "outputs": [
    {
     "data": {
      "text/plain": [
       "LinearRegression(copy_X=True, fit_intercept=True, n_jobs=1, normalize=False)"
      ]
     },
     "execution_count": 91,
     "metadata": {},
     "output_type": "execute_result"
    }
   ],
   "source": [
    "from sklearn import linear_model\n",
    "import statsmodels.formula.api as smf\n",
    "# Instantiate and fit our model.\n",
    "regr = linear_model.LinearRegression()\n",
    "Y = df['Property crime']\n",
    "# X = df[['Population','Pop_squared','Murder', 'Robbery_x']]\n",
    "X = df[['Population','Murder and\\nnonnegligent\\nmanslaughter', 'Robbery']]\n",
    "regr.fit(X, Y)"
   ]
  },
  {
   "cell_type": "code",
   "execution_count": 92,
   "metadata": {
    "scrolled": true
   },
   "outputs": [
    {
     "name": "stdout",
     "output_type": "stream",
     "text": [
      "\n",
      "Coefficients: \n",
      " [1.58346761e-02 1.18435972e+02 2.02490402e+00]\n",
      "\n",
      "Intercept: \n",
      " 25.2447104393612\n",
      "\n",
      "R-squared:\n",
      "0.9305591974235127\n"
     ]
    }
   ],
   "source": [
    "# Inspect the results.\n",
    "print('\\nCoefficients: \\n', regr.coef_)\n",
    "print('\\nIntercept: \\n', regr.intercept_)\n",
    "print('\\nR-squared:')\n",
    "print(regr.score(X, Y))"
   ]
  },
  {
   "cell_type": "code",
   "execution_count": 93,
   "metadata": {},
   "outputs": [
    {
     "data": {
      "text/plain": [
       "<matplotlib.collections.PathCollection at 0x1659051bc18>"
      ]
     },
     "execution_count": 93,
     "metadata": {},
     "output_type": "execute_result"
    },
    {
     "data": {
      "image/png": "[encoded data removed]",
      "text/plain": [
       "<Figure size 432x288 with 4 Axes>"
      ]
     },
     "metadata": {},
     "output_type": "display_data"
    }
   ],
   "source": [
    "# Testing the model\n",
    "# Linear Relationships\n",
    "\n",
    "f, axarr = plt.subplots(2,2)\n",
    "axarr[0,0].scatter(df['Property crime'], df['Population'])\n",
    "axarr[0,1].scatter(df['Property crime'], df['Pop_squared'])\n",
    "axarr[1,0].scatter(df['Property crime'], df['Murder and\\nnonnegligent\\nmanslaughter'])\n",
    "axarr[1,1].scatter(df['Property crime'], df['Robbery'])\n",
    "\n",
    "# axarr[0,0].scatter(df['Property crime_2'], df['Population'])\n",
    "# axarr[0,1].scatter(df['Property crime_2'], df['Pop_squared'])\n",
    "# axarr[1,0].scatter(df['Property crime_2'], df['Murder'])\n",
    "# axarr[1,1].scatter(df['Property crime_2'], df['Robbery_x'])\n"
   ]
  },
  {
   "cell_type": "code",
   "execution_count": 94,
   "metadata": {},
   "outputs": [
    {
     "data": {
      "image/png": "[encoded data removed]",
      "text/plain": [
       "<Figure size 432x288 with 1 Axes>"
      ]
     },
     "metadata": {},
     "output_type": "display_data"
    },
    {
     "data": {
      "text/plain": [
       "count    3.470000e+02\n",
       "mean    -2.424446e-14\n",
       "std      2.725713e+02\n",
       "min     -2.310795e+03\n",
       "25%     -6.261131e+01\n",
       "50%     -3.112389e+01\n",
       "75%      4.266069e+01\n",
       "max      1.325739e+03\n",
       "Name: Property crime, dtype: float64"
      ]
     },
     "execution_count": 94,
     "metadata": {},
     "output_type": "execute_result"
    }
   ],
   "source": [
    "# multivariate normality\n",
    "predicted = regr.predict(X).ravel()\n",
    "actual = df['Property crime']\n",
    "# actual = df['Property crime_2']\n",
    "\n",
    "# Calculate the residual\n",
    "residual = actual - predicted\n",
    "plt.hist(residual)\n",
    "plt.title('Residual counts')\n",
    "plt.xlabel('Residual')\n",
    "plt.ylabel('Count')\n",
    "plt.show()\n",
    "residual.describe()"
   ]
  },
  {
   "cell_type": "code",
   "execution_count": 95,
   "metadata": {},
   "outputs": [
    {
     "data": {
      "image/png": "[encoded data removed]",
      "text/plain": [
       "<Figure size 432x288 with 1 Axes>"
      ]
     },
     "metadata": {},
     "output_type": "display_data"
    }
   ],
   "source": [
    "# homoscedasticity\n",
    "\n",
    "plt.scatter(predicted, residual)\n",
    "plt.xlabel('Predicted')\n",
    "plt.ylabel('Residual')\n",
    "plt.axhline(y=0)\n",
    "plt.title('Residual vs. Predicted')\n",
    "plt.show()"
   ]
  },
  {
   "cell_type": "code",
   "execution_count": 96,
   "metadata": {},
   "outputs": [
    {
     "data": {
      "text/html": [
       "<div>\n",
       "<style scoped>\n",
       "    .dataframe tbody tr th:only-of-type {\n",
       "        vertical-align: middle;\n",
       "    }\n",
       "\n",
       "    .dataframe tbody tr th {\n",
       "        vertical-align: top;\n",
       "    }\n",
       "\n",
       "    .dataframe thead th {\n",
       "        text-align: right;\n",
       "    }\n",
       "</style>\n",
       "<table border=\"1\" class=\"dataframe\">\n",
       "  <thead>\n",
       "    <tr style=\"text-align: right;\">\n",
       "      <th></th>\n",
       "      <th>Population</th>\n",
       "      <th>Murder and\n",
       "nonnegligent\n",
       "manslaughter</th>\n",
       "      <th>Robbery</th>\n",
       "    </tr>\n",
       "  </thead>\n",
       "  <tbody>\n",
       "    <tr>\n",
       "      <th>Population</th>\n",
       "      <td>1.000000</td>\n",
       "      <td>0.756401</td>\n",
       "      <td>0.815525</td>\n",
       "    </tr>\n",
       "    <tr>\n",
       "      <th>Murder and\\nnonnegligent\\nmanslaughter</th>\n",
       "      <td>0.756401</td>\n",
       "      <td>1.000000</td>\n",
       "      <td>0.963290</td>\n",
       "    </tr>\n",
       "    <tr>\n",
       "      <th>Robbery</th>\n",
       "      <td>0.815525</td>\n",
       "      <td>0.963290</td>\n",
       "      <td>1.000000</td>\n",
       "    </tr>\n",
       "  </tbody>\n",
       "</table>\n",
       "</div>"
      ],
      "text/plain": [
       "                                        Population  \\\n",
       "Population                                1.000000   \n",
       "Murder and\\nnonnegligent\\nmanslaughter    0.756401   \n",
       "Robbery                                   0.815525   \n",
       "\n",
       "                                        Murder and\\nnonnegligent\\nmanslaughter  \\\n",
       "Population                                                            0.756401   \n",
       "Murder and\\nnonnegligent\\nmanslaughter                                1.000000   \n",
       "Robbery                                                               0.963290   \n",
       "\n",
       "                                         Robbery  \n",
       "Population                              0.815525  \n",
       "Murder and\\nnonnegligent\\nmanslaughter  0.963290  \n",
       "Robbery                                 1.000000  "
      ]
     },
     "metadata": {},
     "output_type": "display_data"
    }
   ],
   "source": [
    "# multicollinearity\n",
    "\n",
    "correlation_matrix = X.corr()\n",
    "display(correlation_matrix)"
   ]
  },
  {
   "cell_type": "markdown",
   "metadata": {},
   "source": [
    "Took a stab at this model as prescribed in the earlier lesson - Property crime = Population + Pop Squared + Murder (cat.) + Robbery (cat.).  Found some multcollinearity with the population figures so I dropped Pop Squared.  Also the categorical Murder and Robbery figures didn't really give the model much extra information so I used the continous figures for Murder\\nonnegligent\\manslaughter and Robbery.  Also dropped the largest city - NYC - as this outlier had so much affect on the model that it actually overfit the model.  \n",
    "\n",
    "The result produced a model with an R-squared of ~ 0.93, linear relationships and low multicollinearity."
   ]
  },
  {
   "cell_type": "code",
   "execution_count": null,
   "metadata": {},
   "outputs": [],
   "source": []
  }
 ],
 "metadata": {
  "kernelspec": {
   "display_name": "Python 3",
   "language": "python",
   "name": "python3"
  },
  "language_info": {
   "codemirror_mode": {
    "name": "ipython",
    "version": 3
   },
   "file_extension": ".py",
   "mimetype": "text/x-python",
   "name": "python",
   "nbconvert_exporter": "python",
   "pygments_lexer": "ipython3",
   "version": "3.6.5"
  }
 },
 "nbformat": 4,
 "nbformat_minor": 2
}
