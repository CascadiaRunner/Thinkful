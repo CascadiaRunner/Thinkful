{
 "cells": [
  {
   "cell_type": "code",
   "execution_count": 1,
   "metadata": {},
   "outputs": [],
   "source": [
    "import pandas as pd\n",
    "import numpy as np\n",
    "import scipy\n",
    "import matplotlib.pyplot as plt\n",
    "%matplotlib inline"
   ]
  },
  {
   "cell_type": "markdown",
   "metadata": {},
   "source": [
    "## How late will my flight be?\n",
    "\n",
    "(Data Source: Bureau of Transportation Statistics, 2008) \n",
    "A flight is only late if its late by 30 Minutes!"
   ]
  },
  {
   "cell_type": "code",
   "execution_count": 2,
   "metadata": {},
   "outputs": [],
   "source": [
    "df = pd.read_csv(\"C:\\\\Users\\\\Chris\\\\Documents\\\\Python Scripts\\\\Thinkful File Examples\\\\AirlineDelays\\\\2008.csv\")"
   ]
  },
  {
   "cell_type": "code",
   "execution_count": 3,
   "metadata": {
    "scrolled": true
   },
   "outputs": [
    {
     "data": {
      "text/html": [
       "<div>\n",
       "<style scoped>\n",
       "    .dataframe tbody tr th:only-of-type {\n",
       "        vertical-align: middle;\n",
       "    }\n",
       "\n",
       "    .dataframe tbody tr th {\n",
       "        vertical-align: top;\n",
       "    }\n",
       "\n",
       "    .dataframe thead th {\n",
       "        text-align: right;\n",
       "    }\n",
       "</style>\n",
       "<table border=\"1\" class=\"dataframe\">\n",
       "  <thead>\n",
       "    <tr style=\"text-align: right;\">\n",
       "      <th></th>\n",
       "      <th>Year</th>\n",
       "      <th>Month</th>\n",
       "      <th>DayofMonth</th>\n",
       "      <th>DayOfWeek</th>\n",
       "      <th>DepTime</th>\n",
       "      <th>CRSDepTime</th>\n",
       "      <th>ArrTime</th>\n",
       "      <th>CRSArrTime</th>\n",
       "      <th>UniqueCarrier</th>\n",
       "      <th>FlightNum</th>\n",
       "      <th>...</th>\n",
       "      <th>TaxiIn</th>\n",
       "      <th>TaxiOut</th>\n",
       "      <th>Cancelled</th>\n",
       "      <th>CancellationCode</th>\n",
       "      <th>Diverted</th>\n",
       "      <th>CarrierDelay</th>\n",
       "      <th>WeatherDelay</th>\n",
       "      <th>NASDelay</th>\n",
       "      <th>SecurityDelay</th>\n",
       "      <th>LateAircraftDelay</th>\n",
       "    </tr>\n",
       "  </thead>\n",
       "  <tbody>\n",
       "    <tr>\n",
       "      <th>0</th>\n",
       "      <td>2008</td>\n",
       "      <td>1</td>\n",
       "      <td>3</td>\n",
       "      <td>4</td>\n",
       "      <td>2003.0</td>\n",
       "      <td>1955</td>\n",
       "      <td>2211.0</td>\n",
       "      <td>2225</td>\n",
       "      <td>WN</td>\n",
       "      <td>335</td>\n",
       "      <td>...</td>\n",
       "      <td>4.0</td>\n",
       "      <td>8.0</td>\n",
       "      <td>0</td>\n",
       "      <td>NaN</td>\n",
       "      <td>0</td>\n",
       "      <td>NaN</td>\n",
       "      <td>NaN</td>\n",
       "      <td>NaN</td>\n",
       "      <td>NaN</td>\n",
       "      <td>NaN</td>\n",
       "    </tr>\n",
       "    <tr>\n",
       "      <th>1</th>\n",
       "      <td>2008</td>\n",
       "      <td>1</td>\n",
       "      <td>3</td>\n",
       "      <td>4</td>\n",
       "      <td>754.0</td>\n",
       "      <td>735</td>\n",
       "      <td>1002.0</td>\n",
       "      <td>1000</td>\n",
       "      <td>WN</td>\n",
       "      <td>3231</td>\n",
       "      <td>...</td>\n",
       "      <td>5.0</td>\n",
       "      <td>10.0</td>\n",
       "      <td>0</td>\n",
       "      <td>NaN</td>\n",
       "      <td>0</td>\n",
       "      <td>NaN</td>\n",
       "      <td>NaN</td>\n",
       "      <td>NaN</td>\n",
       "      <td>NaN</td>\n",
       "      <td>NaN</td>\n",
       "    </tr>\n",
       "    <tr>\n",
       "      <th>2</th>\n",
       "      <td>2008</td>\n",
       "      <td>1</td>\n",
       "      <td>3</td>\n",
       "      <td>4</td>\n",
       "      <td>628.0</td>\n",
       "      <td>620</td>\n",
       "      <td>804.0</td>\n",
       "      <td>750</td>\n",
       "      <td>WN</td>\n",
       "      <td>448</td>\n",
       "      <td>...</td>\n",
       "      <td>3.0</td>\n",
       "      <td>17.0</td>\n",
       "      <td>0</td>\n",
       "      <td>NaN</td>\n",
       "      <td>0</td>\n",
       "      <td>NaN</td>\n",
       "      <td>NaN</td>\n",
       "      <td>NaN</td>\n",
       "      <td>NaN</td>\n",
       "      <td>NaN</td>\n",
       "    </tr>\n",
       "    <tr>\n",
       "      <th>3</th>\n",
       "      <td>2008</td>\n",
       "      <td>1</td>\n",
       "      <td>3</td>\n",
       "      <td>4</td>\n",
       "      <td>926.0</td>\n",
       "      <td>930</td>\n",
       "      <td>1054.0</td>\n",
       "      <td>1100</td>\n",
       "      <td>WN</td>\n",
       "      <td>1746</td>\n",
       "      <td>...</td>\n",
       "      <td>3.0</td>\n",
       "      <td>7.0</td>\n",
       "      <td>0</td>\n",
       "      <td>NaN</td>\n",
       "      <td>0</td>\n",
       "      <td>NaN</td>\n",
       "      <td>NaN</td>\n",
       "      <td>NaN</td>\n",
       "      <td>NaN</td>\n",
       "      <td>NaN</td>\n",
       "    </tr>\n",
       "    <tr>\n",
       "      <th>4</th>\n",
       "      <td>2008</td>\n",
       "      <td>1</td>\n",
       "      <td>3</td>\n",
       "      <td>4</td>\n",
       "      <td>1829.0</td>\n",
       "      <td>1755</td>\n",
       "      <td>1959.0</td>\n",
       "      <td>1925</td>\n",
       "      <td>WN</td>\n",
       "      <td>3920</td>\n",
       "      <td>...</td>\n",
       "      <td>3.0</td>\n",
       "      <td>10.0</td>\n",
       "      <td>0</td>\n",
       "      <td>NaN</td>\n",
       "      <td>0</td>\n",
       "      <td>2.0</td>\n",
       "      <td>0.0</td>\n",
       "      <td>0.0</td>\n",
       "      <td>0.0</td>\n",
       "      <td>32.0</td>\n",
       "    </tr>\n",
       "  </tbody>\n",
       "</table>\n",
       "<p>5 rows × 29 columns</p>\n",
       "</div>"
      ],
      "text/plain": [
       "   Year  Month  DayofMonth  DayOfWeek  DepTime  CRSDepTime  ArrTime  \\\n",
       "0  2008      1           3          4   2003.0        1955   2211.0   \n",
       "1  2008      1           3          4    754.0         735   1002.0   \n",
       "2  2008      1           3          4    628.0         620    804.0   \n",
       "3  2008      1           3          4    926.0         930   1054.0   \n",
       "4  2008      1           3          4   1829.0        1755   1959.0   \n",
       "\n",
       "   CRSArrTime UniqueCarrier  FlightNum        ...         TaxiIn  TaxiOut  \\\n",
       "0        2225            WN        335        ...            4.0      8.0   \n",
       "1        1000            WN       3231        ...            5.0     10.0   \n",
       "2         750            WN        448        ...            3.0     17.0   \n",
       "3        1100            WN       1746        ...            3.0      7.0   \n",
       "4        1925            WN       3920        ...            3.0     10.0   \n",
       "\n",
       "   Cancelled  CancellationCode  Diverted  CarrierDelay WeatherDelay NASDelay  \\\n",
       "0          0               NaN         0           NaN          NaN      NaN   \n",
       "1          0               NaN         0           NaN          NaN      NaN   \n",
       "2          0               NaN         0           NaN          NaN      NaN   \n",
       "3          0               NaN         0           NaN          NaN      NaN   \n",
       "4          0               NaN         0           2.0          0.0      0.0   \n",
       "\n",
       "   SecurityDelay  LateAircraftDelay  \n",
       "0            NaN                NaN  \n",
       "1            NaN                NaN  \n",
       "2            NaN                NaN  \n",
       "3            NaN                NaN  \n",
       "4            0.0               32.0  \n",
       "\n",
       "[5 rows x 29 columns]"
      ]
     },
     "execution_count": 3,
     "metadata": {},
     "output_type": "execute_result"
    }
   ],
   "source": [
    "df.head()"
   ]
  },
  {
   "cell_type": "code",
   "execution_count": 4,
   "metadata": {},
   "outputs": [],
   "source": [
    "# Clean Data\n",
    "\n",
    "# Cancelled Flights - Not delayed.  Should drop from data - Over 130K entries\n",
    "flights = df[df.Cancelled != 1]\n",
    "flights = flights.drop(columns=['Cancelled', 'CancellationCode'])\n",
    "\n",
    "# Diverted Flights - Delayed but its unclear if the flight eventually made it to the destination.  Decided to drop\n",
    "flights = flights[flights.Diverted != 1]\n",
    "flights = flights.drop(columns=['Diverted'])\n",
    "\n",
    "# Not interested in TailNum - bye.\n",
    "flights = flights.drop(columns='TailNum')\n",
    "\n",
    "# Later analysis by airlines\n",
    "flights = flights.drop(columns=['CarrierDelay','WeatherDelay', 'NASDelay','SecurityDelay','LateAircraftDelay'])"
   ]
  },
  {
   "cell_type": "code",
   "execution_count": 5,
   "metadata": {},
   "outputs": [
    {
     "data": {
      "text/plain": [
       "Series([], dtype: int64)"
      ]
     },
     "execution_count": 5,
     "metadata": {},
     "output_type": "execute_result"
    }
   ],
   "source": [
    "# Find NaN\n",
    "\n",
    "null_count = flights.isnull().sum()\n",
    "null_count[null_count>0]"
   ]
  },
  {
   "cell_type": "code",
   "execution_count": 6,
   "metadata": {},
   "outputs": [],
   "source": [
    "# Create feature for 'Late Arrival'\n",
    "\n",
    "# flights['TotalDelay'] = flights[['CarrierDelay','WeatherDelay', 'NASDelay','SecurityDelay','LateAircraftDelay']].sum(axis=1)\n",
    "flights['LateArr'] = flights['ArrDelay'] < 30\n",
    "flights['LateArr'] = pd.get_dummies(flights['LateArr'])"
   ]
  },
  {
   "cell_type": "code",
   "execution_count": 7,
   "metadata": {},
   "outputs": [
    {
     "data": {
      "image/png": "[encoded data removed]",
      "text/plain": [
       "<Figure size 720x720 with 3 Axes>"
      ]
     },
     "metadata": {},
     "output_type": "display_data"
    }
   ],
   "source": [
    "# Data Exploration - Does date effect late flights?\n",
    "\n",
    "late_only = flights.loc[flights['LateArr']==1]\n",
    "\n",
    "plt.figure(figsize=(10,10))\n",
    "\n",
    "y=0\n",
    "for x in late_only.columns[1:4]:\n",
    "    y += 1\n",
    "    plt.subplot(1,3,y)\n",
    "    plt.title(x)\n",
    "    plt.hist(late_only[x], late_only[x].max())\n",
    "    \n",
    "plt.show()"
   ]
  },
  {
   "cell_type": "code",
   "execution_count": 8,
   "metadata": {},
   "outputs": [
    {
     "name": "stdout",
     "output_type": "stream",
     "text": [
      "1     1.131147\n",
      "2     1.326957\n",
      "3     1.179264\n",
      "4     0.884973\n",
      "5     0.837838\n",
      "6     1.309953\n",
      "7     1.083828\n",
      "8     0.919480\n",
      "9     0.555137\n",
      "10    0.513419\n",
      "11    0.668727\n",
      "12    1.552480\n",
      "Name: Month, dtype: float64\n",
      "1     1.072398\n",
      "2     0.959772\n",
      "3     0.881822\n",
      "4     1.112735\n",
      "5     0.929637\n",
      "6     1.016611\n",
      "7     1.081818\n",
      "8     1.075837\n",
      "9     0.968568\n",
      "10    1.021847\n",
      "11    0.981187\n",
      "12    0.941766\n",
      "13    0.975280\n",
      "14    0.973923\n",
      "15    1.017575\n",
      "16    0.933420\n",
      "17    0.924157\n",
      "18    0.962965\n",
      "19    1.014254\n",
      "20    1.011947\n",
      "21    1.113907\n",
      "22    1.212791\n",
      "23    0.992492\n",
      "24    0.922245\n",
      "25    0.889092\n",
      "26    1.055663\n",
      "27    1.117269\n",
      "28    0.892520\n",
      "29    0.830700\n",
      "30    0.970851\n",
      "31    1.277258\n",
      "Name: DayofMonth, dtype: float64\n",
      "1    1.000183\n",
      "2    0.956728\n",
      "3    0.902710\n",
      "4    0.998998\n",
      "5    1.176203\n",
      "6    0.880324\n",
      "7    1.069305\n",
      "Name: DayOfWeek, dtype: float64\n"
     ]
    }
   ],
   "source": [
    "average = flights.LateArr.sum() / flights.LateArr.count()\n",
    "\n",
    "# Percentage late by Month\n",
    "print(pd.value_counts(late_only.Month) / pd.value_counts(flights.Month).sort_index() / average)\n",
    "\n",
    "# Percentage late by DayofMonth\n",
    "print(pd.value_counts(late_only.DayofMonth) / pd.value_counts(flights.DayofMonth).sort_index() / average)\n",
    "\n",
    "#Percentage late by DayOfWeek\n",
    "print(pd.value_counts(late_only.DayOfWeek) / pd.value_counts(flights.DayOfWeek).sort_index() / average)"
   ]
  },
  {
   "cell_type": "code",
   "execution_count": 9,
   "metadata": {},
   "outputs": [],
   "source": [
    "# Flights in the winter months and early summer are more late on average.\n",
    "months = [1,2,3,6,7,12]\n",
    "flights['PeakMonth'] = ~flights['Month'].isin(months)\n",
    "flights['PeakMonth'] = pd.get_dummies(flights['PeakMonth'])"
   ]
  },
  {
   "cell_type": "code",
   "execution_count": 10,
   "metadata": {},
   "outputs": [],
   "source": [
    "days = [5,7]\n",
    "flights['PeakDayOfWeek'] = False\n",
    "flights['PeakDayOfWeek'] = ~flights['DayOfWeek'].isin(days)\n",
    "flights['PeakDayOfWeek'] = pd.get_dummies(flights['PeakDayOfWeek'])"
   ]
  },
  {
   "cell_type": "code",
   "execution_count": 11,
   "metadata": {},
   "outputs": [
    {
     "data": {
      "image/png": "[encoded data removed]",
      "text/plain": [
       "<Figure size 720x720 with 4 Axes>"
      ]
     },
     "metadata": {},
     "output_type": "display_data"
    }
   ],
   "source": [
    "plt.figure(figsize=(10,10))\n",
    "\n",
    "y=0\n",
    "for x in late_only.columns[4:8]:\n",
    "    y += 1\n",
    "    plt.subplot(1,4,y)\n",
    "    plt.title(x)\n",
    "    plt.hist(late_only[x], 24)\n",
    "    \n",
    "plt.show()"
   ]
  },
  {
   "cell_type": "code",
   "execution_count": 12,
   "metadata": {},
   "outputs": [
    {
     "name": "stdout",
     "output_type": "stream",
     "text": [
      "Hour: 0 19981 8766 0.4387167809418948\n",
      "Hour: 100 5681 3370 0.5932054215807077\n",
      "Hour: 200 1780 969 0.5443820224719101\n",
      "Hour: 300 842 323 0.3836104513064133\n",
      "Hour: 400 3758 164 0.043640234167110166\n",
      "Hour: 500 163796 2526 0.015421622017631689\n",
      "Hour: 600 444295 12805 0.02882094104142518\n",
      "Hour: 700 430556 22045 0.05120123746969035\n",
      "Hour: 800 449179 29657 0.06602490321230511\n",
      "Hour: 900 433156 35861 0.0827900340754832\n",
      "Hour: 1000 430572 40735 0.09460670921471903\n",
      "Hour: 1100 442644 47046 0.1062840567137474\n",
      "Hour: 1200 423216 49674 0.11737268912328457\n",
      "Hour: 1300 432891 54580 0.1260825473387065\n",
      "Hour: 1400 418176 59126 0.1413902280379553\n",
      "Hour: 1500 408720 64322 0.15737424153454688\n",
      "Hour: 1600 434562 68325 0.1572272771204109\n",
      "Hour: 1700 429593 74629 0.17372024218271712\n",
      "Hour: 1800 399515 77869 0.19490882695268014\n",
      "Hour: 1900 384803 78878 0.20498280938558172\n",
      "Hour: 2000 283859 71606 0.2522590441028821\n",
      "Hour: 2100 251084 60864 0.24240493221392045\n",
      "Hour: 2200 117334 42650 0.3634922528849268\n",
      "Hour: 2300 45036 20625 0.45796695976552093\n"
     ]
    }
   ],
   "source": [
    "for x in range(0, 2400, 100):\n",
    "    tot = (flights['DepTime'] > x) & (flights['DepTime'] <= (x+100))\n",
    "    tot_late = (late_only['DepTime'] > x) & (late_only['DepTime'] <= (x+100))\n",
    "    avg = tot_late.sum() / tot.sum()\n",
    "    print('Hour: ' + str(x) + ' ' + str(tot.sum()) + ' ' + str(tot_late.sum()) + ' ' + str(avg))"
   ]
  },
  {
   "cell_type": "code",
   "execution_count": 13,
   "metadata": {},
   "outputs": [],
   "source": [
    "flights['PeakTime'] = ~(flights['DepTime'] < 400) ^ (flights['DepTime'] >= 1759)\n",
    "flights['PeakTime'] = pd.get_dummies(flights['PeakTime'])"
   ]
  },
  {
   "cell_type": "code",
   "execution_count": 14,
   "metadata": {},
   "outputs": [],
   "source": [
    "# Ridge Regression model to predict how delayed the flights will be in minutes\n",
    "\n",
    "from sklearn import linear_model\n",
    "from sklearn import preprocessing\n",
    "from sklearn.model_selection import train_test_split\n",
    "from sklearn.model_selection import cross_val_score\n",
    "import time"
   ]
  },
  {
   "cell_type": "code",
   "execution_count": 22,
   "metadata": {},
   "outputs": [],
   "source": [
    "# Only using a sample of 100,000 flights\n",
    "sample = flights.sample(n=100000, random_state=369)\n",
    "\n",
    "X = sample.drop(columns=['ArrDelay','UniqueCarrier','FlightNum','Origin','Dest','DepDelay','LateArr'])\n",
    "y = sample.ArrDelay\n",
    "\n",
    "X_train, X_test, y_train, y_test = train_test_split(X, y, test_size=0.33, random_state=111)"
   ]
  },
  {
   "cell_type": "code",
   "execution_count": 23,
   "metadata": {},
   "outputs": [
    {
     "data": {
      "text/plain": [
       "Index(['Year', 'Month', 'DayofMonth', 'DayOfWeek', 'DepTime', 'CRSDepTime',\n",
       "       'ArrTime', 'CRSArrTime', 'ActualElapsedTime', 'CRSElapsedTime',\n",
       "       'AirTime', 'Distance', 'TaxiIn', 'TaxiOut', 'PeakMonth',\n",
       "       'PeakDayOfWeek', 'PeakTime'],\n",
       "      dtype='object')"
      ]
     },
     "execution_count": 23,
     "metadata": {},
     "output_type": "execute_result"
    }
   ],
   "source": [
    "X.columns"
   ]
  },
  {
   "cell_type": "code",
   "execution_count": 24,
   "metadata": {},
   "outputs": [
    {
     "name": "stdout",
     "output_type": "stream",
     "text": [
      "0.2804225377907149\n",
      "0.29730505460019796\n",
      "--- 0.5552690029144287 seconds ---\n"
     ]
    }
   ],
   "source": [
    "import winsound\n",
    "start_time = time.time()\n",
    "\n",
    "# model here\n",
    "ridgeregr = linear_model.Ridge()\n",
    "ridgeregr.fit(X_train, y_train)\n",
    "print(ridgeregr.score(X_train, y_train))\n",
    "print(ridgeregr.score(X_test, y_test))\n",
    "\n",
    "for x in range(0,3):\n",
    "    winsound.Beep(1500,150)\n",
    "print(\"--- %s seconds ---\" % (time.time() - start_time))\n"
   ]
  },
  {
   "cell_type": "code",
   "execution_count": 25,
   "metadata": {},
   "outputs": [
    {
     "data": {
      "text/plain": [
       "array([0.27635111, 0.28170139, 0.29238057, 0.29004712, 0.28673935])"
      ]
     },
     "execution_count": 25,
     "metadata": {},
     "output_type": "execute_result"
    }
   ],
   "source": [
    "cross_val_score(ridgeregr, X, y, cv=5)"
   ]
  },
  {
   "cell_type": "code",
   "execution_count": 28,
   "metadata": {},
   "outputs": [
    {
     "data": {
      "text/plain": [
       "-10.688118146690764"
      ]
     },
     "execution_count": 28,
     "metadata": {},
     "output_type": "execute_result"
    }
   ],
   "source": [
    "ridgeregr.predict(X)[2]"
   ]
  },
  {
   "cell_type": "code",
   "execution_count": 20,
   "metadata": {},
   "outputs": [
    {
     "data": {
      "text/plain": [
       "6200911    -3.0\n",
       "3700927    86.0\n",
       "2167383    -8.0\n",
       "1156128     2.0\n",
       "1470548    -9.0\n",
       "Name: ArrDelay, dtype: float64"
      ]
     },
     "execution_count": 20,
     "metadata": {},
     "output_type": "execute_result"
    }
   ],
   "source": [
    "y.head()"
   ]
  },
  {
   "cell_type": "code",
   "execution_count": 21,
   "metadata": {},
   "outputs": [
    {
     "data": {
      "text/html": [
       "<div>\n",
       "<style scoped>\n",
       "    .dataframe tbody tr th:only-of-type {\n",
       "        vertical-align: middle;\n",
       "    }\n",
       "\n",
       "    .dataframe tbody tr th {\n",
       "        vertical-align: top;\n",
       "    }\n",
       "\n",
       "    .dataframe thead th {\n",
       "        text-align: right;\n",
       "    }\n",
       "</style>\n",
       "<table border=\"1\" class=\"dataframe\">\n",
       "  <thead>\n",
       "    <tr style=\"text-align: right;\">\n",
       "      <th></th>\n",
       "      <th>Year</th>\n",
       "      <th>Month</th>\n",
       "      <th>DayofMonth</th>\n",
       "      <th>DayOfWeek</th>\n",
       "      <th>DepTime</th>\n",
       "      <th>CRSDepTime</th>\n",
       "      <th>ArrTime</th>\n",
       "      <th>CRSArrTime</th>\n",
       "      <th>ActualElapsedTime</th>\n",
       "      <th>CRSElapsedTime</th>\n",
       "      <th>AirTime</th>\n",
       "      <th>DepDelay</th>\n",
       "      <th>Distance</th>\n",
       "      <th>TaxiIn</th>\n",
       "      <th>TaxiOut</th>\n",
       "      <th>PeakMonth</th>\n",
       "      <th>PeakDayOfWeek</th>\n",
       "      <th>PeakTime</th>\n",
       "    </tr>\n",
       "  </thead>\n",
       "  <tbody>\n",
       "    <tr>\n",
       "      <th>6200911</th>\n",
       "      <td>2008</td>\n",
       "      <td>11</td>\n",
       "      <td>2</td>\n",
       "      <td>7</td>\n",
       "      <td>941.0</td>\n",
       "      <td>940</td>\n",
       "      <td>1037.0</td>\n",
       "      <td>1040</td>\n",
       "      <td>56.0</td>\n",
       "      <td>60.0</td>\n",
       "      <td>43.0</td>\n",
       "      <td>1.0</td>\n",
       "      <td>248</td>\n",
       "      <td>4.0</td>\n",
       "      <td>9.0</td>\n",
       "      <td>0</td>\n",
       "      <td>1</td>\n",
       "      <td>0</td>\n",
       "    </tr>\n",
       "    <tr>\n",
       "      <th>3700927</th>\n",
       "      <td>2008</td>\n",
       "      <td>7</td>\n",
       "      <td>31</td>\n",
       "      <td>4</td>\n",
       "      <td>2314.0</td>\n",
       "      <td>2135</td>\n",
       "      <td>21.0</td>\n",
       "      <td>2255</td>\n",
       "      <td>67.0</td>\n",
       "      <td>80.0</td>\n",
       "      <td>57.0</td>\n",
       "      <td>99.0</td>\n",
       "      <td>417</td>\n",
       "      <td>3.0</td>\n",
       "      <td>7.0</td>\n",
       "      <td>1</td>\n",
       "      <td>0</td>\n",
       "      <td>1</td>\n",
       "    </tr>\n",
       "    <tr>\n",
       "      <th>2167383</th>\n",
       "      <td>2008</td>\n",
       "      <td>4</td>\n",
       "      <td>19</td>\n",
       "      <td>6</td>\n",
       "      <td>822.0</td>\n",
       "      <td>820</td>\n",
       "      <td>932.0</td>\n",
       "      <td>940</td>\n",
       "      <td>70.0</td>\n",
       "      <td>80.0</td>\n",
       "      <td>59.0</td>\n",
       "      <td>2.0</td>\n",
       "      <td>342</td>\n",
       "      <td>4.0</td>\n",
       "      <td>7.0</td>\n",
       "      <td>0</td>\n",
       "      <td>0</td>\n",
       "      <td>0</td>\n",
       "    </tr>\n",
       "    <tr>\n",
       "      <th>1156128</th>\n",
       "      <td>2008</td>\n",
       "      <td>2</td>\n",
       "      <td>25</td>\n",
       "      <td>1</td>\n",
       "      <td>845.0</td>\n",
       "      <td>845</td>\n",
       "      <td>947.0</td>\n",
       "      <td>945</td>\n",
       "      <td>62.0</td>\n",
       "      <td>60.0</td>\n",
       "      <td>38.0</td>\n",
       "      <td>0.0</td>\n",
       "      <td>191</td>\n",
       "      <td>3.0</td>\n",
       "      <td>21.0</td>\n",
       "      <td>1</td>\n",
       "      <td>0</td>\n",
       "      <td>0</td>\n",
       "    </tr>\n",
       "    <tr>\n",
       "      <th>1470548</th>\n",
       "      <td>2008</td>\n",
       "      <td>3</td>\n",
       "      <td>26</td>\n",
       "      <td>3</td>\n",
       "      <td>1346.0</td>\n",
       "      <td>1348</td>\n",
       "      <td>1616.0</td>\n",
       "      <td>1625</td>\n",
       "      <td>90.0</td>\n",
       "      <td>97.0</td>\n",
       "      <td>73.0</td>\n",
       "      <td>-2.0</td>\n",
       "      <td>507</td>\n",
       "      <td>4.0</td>\n",
       "      <td>13.0</td>\n",
       "      <td>1</td>\n",
       "      <td>0</td>\n",
       "      <td>0</td>\n",
       "    </tr>\n",
       "  </tbody>\n",
       "</table>\n",
       "</div>"
      ],
      "text/plain": [
       "         Year  Month  DayofMonth  DayOfWeek  DepTime  CRSDepTime  ArrTime  \\\n",
       "6200911  2008     11           2          7    941.0         940   1037.0   \n",
       "3700927  2008      7          31          4   2314.0        2135     21.0   \n",
       "2167383  2008      4          19          6    822.0         820    932.0   \n",
       "1156128  2008      2          25          1    845.0         845    947.0   \n",
       "1470548  2008      3          26          3   1346.0        1348   1616.0   \n",
       "\n",
       "         CRSArrTime  ActualElapsedTime  CRSElapsedTime  AirTime  DepDelay  \\\n",
       "6200911        1040               56.0            60.0     43.0       1.0   \n",
       "3700927        2255               67.0            80.0     57.0      99.0   \n",
       "2167383         940               70.0            80.0     59.0       2.0   \n",
       "1156128         945               62.0            60.0     38.0       0.0   \n",
       "1470548        1625               90.0            97.0     73.0      -2.0   \n",
       "\n",
       "         Distance  TaxiIn  TaxiOut  PeakMonth  PeakDayOfWeek  PeakTime  \n",
       "6200911       248     4.0      9.0          0              1         0  \n",
       "3700927       417     3.0      7.0          1              0         1  \n",
       "2167383       342     4.0      7.0          0              0         0  \n",
       "1156128       191     3.0     21.0          1              0         0  \n",
       "1470548       507     4.0     13.0          1              0         0  "
      ]
     },
     "execution_count": 21,
     "metadata": {},
     "output_type": "execute_result"
    }
   ],
   "source": [
    "X.head()"
   ]
  },
  {
   "cell_type": "code",
   "execution_count": null,
   "metadata": {},
   "outputs": [],
   "source": []
  }
 ],
 "metadata": {
  "kernelspec": {
   "display_name": "Python 3",
   "language": "python",
   "name": "python3"
  },
  "language_info": {
   "codemirror_mode": {
    "name": "ipython",
    "version": 3
   },
   "file_extension": ".py",
   "mimetype": "text/x-python",
   "name": "python",
   "nbconvert_exporter": "python",
   "pygments_lexer": "ipython3",
   "version": "3.6.5"
  }
 },
 "nbformat": 4,
 "nbformat_minor": 2
}
