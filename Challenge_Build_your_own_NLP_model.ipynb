{
  "nbformat": 4,
  "nbformat_minor": 0,
  "metadata": {
    "colab": {
      "name": "Challenge - Build your own NLP model",
      "version": "0.3.2",
      "provenance": [],
      "include_colab_link": true
    },
    "kernelspec": {
      "name": "python3",
      "display_name": "Python 3"
    }
  },
  "cells": [
    {
      "cell_type": "markdown",
      "metadata": {
        "id": "view-in-github",
        "colab_type": "text"
      },
      "source": [
        "<a href=\"https://colab.research.google.com/github/CascadiaRunner/Thinkful/blob/master/Challenge_Build_your_own_NLP_model.ipynb\" target=\"_parent\"><img src=\"https://colab.research.google.com/assets/colab-badge.svg\" alt=\"Open In Colab\"/></a>"
      ]
    },
    {
      "metadata": {
        "id": "T5P7pIIcWQ0J",
        "colab_type": "code",
        "colab": {
          "base_uri": "https://localhost:8080/",
          "height": 68
        },
        "outputId": "f0904635-c9f5-4b4f-fbe9-5414d2bc2ff4"
      },
      "cell_type": "code",
      "source": [
        "%matplotlib inline\n",
        "import numpy as np\n",
        "import pandas as pd\n",
        "import scipy\n",
        "import sklearn\n",
        "import spacy\n",
        "import matplotlib.pyplot as plt\n",
        "import seaborn as sns\n",
        "import re\n",
        "from nltk.corpus import inaugural, stopwords\n",
        "from collections import Counter\n",
        "import nltk\n",
        "nltk.download('inaugural')"
      ],
      "execution_count": 93,
      "outputs": [
        {
          "output_type": "stream",
          "text": [
            "[nltk_data] Downloading package inaugural to /root/nltk_data...\n",
            "[nltk_data]   Package inaugural is already up-to-date!\n"
          ],
          "name": "stdout"
        },
        {
          "output_type": "execute_result",
          "data": {
            "text/plain": [
              "True"
            ]
          },
          "metadata": {
            "tags": []
          },
          "execution_count": 93
        }
      ]
    },
    {
      "metadata": {
        "id": "Utln0I2NWS70",
        "colab_type": "code",
        "colab": {}
      },
      "cell_type": "code",
      "source": [
        "bush = inaugural.raw('2001-Bush.txt')\n",
        "obama = inaugural.raw('2009-Obama.txt')"
      ],
      "execution_count": 0,
      "outputs": []
    },
    {
      "metadata": {
        "id": "fdTeRpxjYSGW",
        "colab_type": "code",
        "colab": {}
      },
      "cell_type": "code",
      "source": [
        "def text_cleaner(text):\n",
        "    text = re.sub(r'\\n',' ',text)\n",
        "#     text = re.sub(\"[\\[].*?[\\]]\", \"\", text)\n",
        "#     text = ' '.join(text.split())\n",
        "    return text"
      ],
      "execution_count": 0,
      "outputs": []
    },
    {
      "metadata": {
        "id": "_R5xva4PWZlV",
        "colab_type": "code",
        "colab": {}
      },
      "cell_type": "code",
      "source": [
        "bush = text_cleaner(bush)\n",
        "obama = text_cleaner(obama)"
      ],
      "execution_count": 0,
      "outputs": []
    },
    {
      "metadata": {
        "id": "6NZPj_7XY5GJ",
        "colab_type": "code",
        "colab": {}
      },
      "cell_type": "code",
      "source": [
        "nlp = spacy.load('en')\n",
        "bush_inaug = nlp(bush)\n",
        "obama_inaug = nlp(obama)"
      ],
      "execution_count": 0,
      "outputs": []
    },
    {
      "metadata": {
        "id": "vc-vt-KaZk2n",
        "colab_type": "code",
        "colab": {
          "base_uri": "https://localhost:8080/",
          "height": 204
        },
        "outputId": "1819d620-49d5-4525-ad50-a1be7c17c53d"
      },
      "cell_type": "code",
      "source": [
        "# Group into sentences.\n",
        "bush_sents = [[sent, \"Bush\"] for sent in bush_inaug.sents]\n",
        "obama_sents = [[sent, \"Obama\"] for sent in obama_inaug.sents]\n",
        "\n",
        "# Combine the sentences from the two speeches.\n",
        "sentences = pd.DataFrame(bush_sents + obama_sents)\n",
        "sentences.columns = ['speech', 'president']\n",
        "sentences.head()"
      ],
      "execution_count": 98,
      "outputs": [
        {
          "output_type": "execute_result",
          "data": {
            "text/html": [
              "<div>\n",
              "<style scoped>\n",
              "    .dataframe tbody tr th:only-of-type {\n",
              "        vertical-align: middle;\n",
              "    }\n",
              "\n",
              "    .dataframe tbody tr th {\n",
              "        vertical-align: top;\n",
              "    }\n",
              "\n",
              "    .dataframe thead th {\n",
              "        text-align: right;\n",
              "    }\n",
              "</style>\n",
              "<table border=\"1\" class=\"dataframe\">\n",
              "  <thead>\n",
              "    <tr style=\"text-align: right;\">\n",
              "      <th></th>\n",
              "      <th>speech</th>\n",
              "      <th>president</th>\n",
              "    </tr>\n",
              "  </thead>\n",
              "  <tbody>\n",
              "    <tr>\n",
              "      <th>0</th>\n",
              "      <td>(President, Clinton, ,, distinguished, guests,...</td>\n",
              "      <td>Bush</td>\n",
              "    </tr>\n",
              "    <tr>\n",
              "      <th>1</th>\n",
              "      <td>(With, a, simple, oath, ,, we, affirm, old, tr...</td>\n",
              "      <td>Bush</td>\n",
              "    </tr>\n",
              "    <tr>\n",
              "      <th>2</th>\n",
              "      <td>(As, I, begin, ,, I, thank, President, Clinton...</td>\n",
              "      <td>Bush</td>\n",
              "    </tr>\n",
              "    <tr>\n",
              "      <th>3</th>\n",
              "      <td>(And, I, thank, Vice, President, Gore, for, a,...</td>\n",
              "      <td>Bush</td>\n",
              "    </tr>\n",
              "    <tr>\n",
              "      <th>4</th>\n",
              "      <td>(I, am, honored, and, humbled, to, stand, here...</td>\n",
              "      <td>Bush</td>\n",
              "    </tr>\n",
              "  </tbody>\n",
              "</table>\n",
              "</div>"
            ],
            "text/plain": [
              "                                              speech president\n",
              "0  (President, Clinton, ,, distinguished, guests,...      Bush\n",
              "1  (With, a, simple, oath, ,, we, affirm, old, tr...      Bush\n",
              "2  (As, I, begin, ,, I, thank, President, Clinton...      Bush\n",
              "3  (And, I, thank, Vice, President, Gore, for, a,...      Bush\n",
              "4  (I, am, honored, and, humbled, to, stand, here...      Bush"
            ]
          },
          "metadata": {
            "tags": []
          },
          "execution_count": 98
        }
      ]
    },
    {
      "metadata": {
        "id": "bggoLZ3qcYwk",
        "colab_type": "code",
        "colab": {}
      },
      "cell_type": "code",
      "source": [
        "def bag_of_words(text):\n",
        "    \n",
        "    # Filter out punctuation and stop words.\n",
        "    allwords = [token.lemma_\n",
        "                for token in text\n",
        "                if not token.is_punct\n",
        "                and not token.is_stop]\n",
        "    \n",
        "    # Return the most common words.\n",
        "    return [item[0] for item in Counter(allwords).most_common(100)]\n",
        "  \n",
        "def bow_features(sentences_df, common_words, verbose=False, batch_size=100):\n",
        "    word_counts = pd.DataFrame(columns=common_words)\n",
        "    i = 0\n",
        "    for sentence in sentences_df.iloc[:,0]:\n",
        "        # repeat this for every sentence\n",
        "        x = pd.Series(sentence).value_counts()\n",
        "        x = x[pd.Series([str(x) for x in x.index]).isin(common_words).values]\n",
        "        word_counts.loc[i,:] = 0\n",
        "        word_counts.loc[i,[str(x) for x in x.index]] = x.values\n",
        "        if verbose:\n",
        "            if i % batch_size == 0:\n",
        "                print(\"Processing row {}\".format(i))\n",
        "        i += 1\n",
        "    return word_counts"
      ],
      "execution_count": 0,
      "outputs": []
    },
    {
      "metadata": {
        "id": "M_5YwUkucoSc",
        "colab_type": "code",
        "colab": {}
      },
      "cell_type": "code",
      "source": [
        "bushwords = bag_of_words(bush_inaug)\n",
        "obamawords = bag_of_words(obama_inaug)\n",
        "\n",
        "common_words = set(bushwords + obamawords)"
      ],
      "execution_count": 0,
      "outputs": []
    },
    {
      "metadata": {
        "id": "EFu1gRZsc3qp",
        "colab_type": "code",
        "colab": {
          "base_uri": "https://localhost:8080/",
          "height": 68
        },
        "outputId": "7c873cbe-e4cf-4d6e-e47f-630fbc7594cf"
      },
      "cell_type": "code",
      "source": [
        "word_counts = bow_features(sentences, common_words, verbose=True)"
      ],
      "execution_count": 101,
      "outputs": [
        {
          "output_type": "stream",
          "text": [
            "Processing row 0\n",
            "Processing row 100\n",
            "Processing row 200\n"
          ],
          "name": "stdout"
        }
      ]
    },
    {
      "metadata": {
        "id": "nobj9FrQljZc",
        "colab_type": "code",
        "colab": {}
      },
      "cell_type": "code",
      "source": [
        "from sklearn.model_selection import train_test_split\n",
        "\n",
        "# create target variable\n",
        "# Here 0 indicates that Bush was the author\n",
        "# and if 1 then Obama is the author\n",
        "Y = (sentences.president == 'Obama').astype(int).values\n",
        "X = word_counts.astype(int).values\n",
        "\n",
        "X_train, X_test, y_train, y_test = train_test_split(X, \n",
        "                                                    Y,\n",
        "                                                    test_size=0.3,\n",
        "                                                    random_state=0)"
      ],
      "execution_count": 0,
      "outputs": []
    },
    {
      "metadata": {
        "id": "V3fdPTRddut3",
        "colab_type": "code",
        "colab": {
          "base_uri": "https://localhost:8080/",
          "height": 105
        },
        "outputId": "7f181758-9b15-48f7-faf5-18961fd8d32f"
      },
      "cell_type": "code",
      "source": [
        "from sklearn.model_selection import GridSearchCV\n",
        "params = {'n_estimators' : [50, 100, 200, 300],\n",
        "         'learning_rate' : [0.01, 0.05, 0.1, 0.20],\n",
        "         'max_depth' : [5, 10, 15, 20]}\n",
        "\n",
        "gbc = ensemble.GradientBoostingClassifier()\n",
        "clf = GridSearchCV(gbc, params, cv=5)\n",
        "\n",
        "train = clf.fit(X_train, y_train)\n",
        "\n",
        "\n",
        "print('Training set score:', clf.score(X_train, y_train))\n",
        "print('Test set score:', clf.score(X_test, y_test))"
      ],
      "execution_count": 108,
      "outputs": [
        {
          "output_type": "stream",
          "text": [
            "/usr/local/lib/python3.6/dist-packages/sklearn/model_selection/_search.py:841: DeprecationWarning: The default of the `iid` parameter will change from True to False in version 0.22 and will be removed in 0.24. This will change numeric results when test-set sizes are unequal.\n",
            "  DeprecationWarning)\n"
          ],
          "name": "stderr"
        },
        {
          "output_type": "stream",
          "text": [
            "Training set score: 0.9932432432432432\n",
            "Test set score: 0.640625\n"
          ],
          "name": "stdout"
        }
      ]
    },
    {
      "metadata": {
        "id": "MRib0e4ldxwv",
        "colab_type": "code",
        "colab": {}
      },
      "cell_type": "code",
      "source": [
        ""
      ],
      "execution_count": 0,
      "outputs": []
    },
    {
      "metadata": {
        "id": "t3dg4VpYi4JQ",
        "colab_type": "code",
        "colab": {
          "base_uri": "https://localhost:8080/",
          "height": 105
        },
        "outputId": "fb294329-37e8-4973-a650-7b97a568a965"
      },
      "cell_type": "code",
      "source": [
        "nltk.download('punkt')\n",
        "\n",
        "\n",
        "bush=inaugural.paras('2001-Bush.txt')\n",
        "obama=inaugural.paras('2009-Obama.txt')\n",
        "bush_paras=[]\n",
        "obama_paras=[]\n",
        "for paragraph in bush:\n",
        "    para=paragraph[0]\n",
        "    #removing the double-dash from all words\n",
        "    para=[re.sub(r'--','',word) for word in para]\n",
        "    #Forming each paragraph into a string and adding it to the list of strings.\n",
        "    bush_paras.append(' '.join(para))\n",
        "    \n",
        "for paragraph in obama:\n",
        "    para=paragraph[0]\n",
        "    #removing the double-dash from all words\n",
        "    para=[re.sub(r'--','',word) for word in para]\n",
        "    #Forming each paragraph into a string and adding it to the list of strings.\n",
        "    obama_paras.append(' '.join(para))\n",
        "\n",
        "print(bush_paras[0:2])\n",
        "print(obama_paras[0:2])"
      ],
      "execution_count": 109,
      "outputs": [
        {
          "output_type": "stream",
          "text": [
            "[nltk_data] Downloading package punkt to /root/nltk_data...\n",
            "[nltk_data]   Package punkt is already up-to-date!\n",
            "['President Clinton , distinguished guests and my fellow citizens , the peaceful transfer of authority is rare in history , yet common in our country .', 'As I begin , I thank President Clinton for his service to our nation .']\n",
            "['My fellow citizens :', 'I stand here today humbled by the task before us , grateful for the trust you have bestowed , mindful of the sacrifices borne by our ancestors .']\n"
          ],
          "name": "stdout"
        }
      ]
    },
    {
      "metadata": {
        "id": "yjarUQtpoVMo",
        "colab_type": "code",
        "colab": {}
      },
      "cell_type": "code",
      "source": [
        ""
      ],
      "execution_count": 0,
      "outputs": []
    },
    {
      "metadata": {
        "id": "jQHTu-bBfp3s",
        "colab_type": "code",
        "colab": {
          "base_uri": "https://localhost:8080/",
          "height": 34
        },
        "outputId": "91e3f2b9-365e-478a-8a08-f2c0d8d1a305"
      },
      "cell_type": "code",
      "source": [
        "from sklearn.feature_extraction.text import TfidfVectorizer\n",
        "\n",
        "X_train, X_test = train_test_split(bush_paras, test_size=0.3, random_state=0)\n",
        "\n",
        "vectorizer = TfidfVectorizer(max_df=0.5, # drop words that occur in more than half the paragraphs\n",
        "                             min_df=2, # only use words that appear at least twice\n",
        "                             stop_words='english', \n",
        "                             lowercase=True, #convert everything to lower case\n",
        "                             use_idf=True,#we definitely want to use inverse document frequencies in our weighting\n",
        "                             norm=None, #Applies a correction factor so that longer paragraphs and shorter paragraphs get treated equally\n",
        "                             smooth_idf=True #Adds 1 to all document frequencies, as if an extra document existed that used every word once.  Prevents divide-by-zero errors\n",
        "                            )\n",
        "\n",
        "#Applying the vectorizer\n",
        "bush_inaug_tfidf=vectorizer.fit_transform(bush_paras)\n",
        "print(\"Number of features: %d\" % bush_inaug_tfidf.get_shape()[1])\n"
      ],
      "execution_count": 112,
      "outputs": [
        {
          "output_type": "stream",
          "text": [
            "Number of features: 56\n"
          ],
          "name": "stdout"
        }
      ]
    },
    {
      "metadata": {
        "id": "yB8SXjUeiqa5",
        "colab_type": "code",
        "colab": {
          "base_uri": "https://localhost:8080/",
          "height": 51
        },
        "outputId": "961990f0-de3f-4a14-f364-4f921b607ec9"
      },
      "cell_type": "code",
      "source": [
        "# Bush Inaugural Address\n",
        "\n",
        "X_train_tfidf, X_test_tfidf= train_test_split(bush_inaug_tfidf, test_size=0.3, random_state=0)\n",
        "\n",
        "\n",
        "#Reshapes the vectorizer output into something people can read\n",
        "X_train_tfidf_csr = X_train_tfidf.tocsr()\n",
        "\n",
        "#number of paragraphs\n",
        "n = X_train_tfidf_csr.shape[0]\n",
        "#A list of dictionaries, one per paragraph\n",
        "tfidf_bypara = [{} for _ in range(0,n)]\n",
        "#List of features\n",
        "terms = vectorizer.get_feature_names()\n",
        "#for each paragraph, lists the feature words and their tf-idf scores\n",
        "for i, j in zip(*X_train_tfidf_csr.nonzero()):\n",
        "    tfidf_bypara[i][terms[j]] = X_train_tfidf_csr[i, j]\n",
        "\n",
        "#Keep in mind that the log base 2 of 1 is 0, so a tf-idf score of 0 indicates that the word was present once in that sentence.\n",
        "print('Original sentence:', X_train[2])\n",
        "print('Tf_idf vector:', tfidf_bypara[2])"
      ],
      "execution_count": 113,
      "outputs": [
        {
          "output_type": "stream",
          "text": [
            "Original sentence: But the stakes for America are never small .\n",
            "Tf_idf vector: {'small': 3.8134107167600364, 'stakes': 3.8134107167600364, 'america': 2.4271163556401456}\n"
          ],
          "name": "stdout"
        }
      ]
    },
    {
      "metadata": {
        "id": "RvnlXtnmkHWX",
        "colab_type": "code",
        "colab": {
          "base_uri": "https://localhost:8080/",
          "height": 34
        },
        "outputId": "7aa1f892-97ec-4663-ff66-95754a20fc59"
      },
      "cell_type": "code",
      "source": [
        "from sklearn.decomposition import TruncatedSVD\n",
        "from sklearn.pipeline import make_pipeline\n",
        "from sklearn.preprocessing import Normalizer\n",
        "\n",
        "#Our SVD data reducer.  We are going to reduce the feature space from 1379 to 130.\n",
        "svd= TruncatedSVD(10)\n",
        "lsa = make_pipeline(svd, Normalizer(copy=False))\n",
        "# Run SVD on the training data, then project the training data.\n",
        "X_train_lsa = lsa.fit_transform(X_train_tfidf)\n",
        "\n",
        "variance_explained=svd.explained_variance_ratio_\n",
        "total_variance = variance_explained.sum()\n",
        "print(\"Percent variance captured by all components:\",total_variance*100)"
      ],
      "execution_count": 75,
      "outputs": [
        {
          "output_type": "stream",
          "text": [
            "Percent variance captured by all components: 67.46275961215484\n"
          ],
          "name": "stdout"
        }
      ]
    },
    {
      "metadata": {
        "id": "2U5yB_rnxWMK",
        "colab_type": "code",
        "colab": {}
      },
      "cell_type": "code",
      "source": [
        "from sklearn.decomposition import TruncatedSVD\n",
        "from sklearn.pipeline import make_pipeline\n",
        "from sklearn.preprocessing import Normalizer\n",
        "\n",
        "#Our SVD data reducer.  We are going to reduce the feature space from 1379 to 130.\n",
        "svd= TruncatedSVD(10)\n",
        "lsa = make_pipeline(svd, Normalizer(copy=False))\n",
        "# Run SVD on the training data, then project the training data.\n",
        "X_train_lsa = lsa.fit_transform(X_train_tfidf)\n",
        "\n",
        "variance_explained=svd.explained_variance_ratio_\n",
        "total_variance = variance_explained.sum()\n",
        "print(\"Percent variance captured by all components:\",total_variance*100)"
      ],
      "execution_count": 0,
      "outputs": []
    },
    {
      "metadata": {
        "id": "1dVjdbxfngN_",
        "colab_type": "code",
        "colab": {
          "base_uri": "https://localhost:8080/",
          "height": 472
        },
        "outputId": "bd98dfa9-a25d-4c29-889a-f043174945ab"
      },
      "cell_type": "code",
      "source": [
        "# Compute document similarity using LSA components\n",
        "similarity = np.asarray(np.asmatrix(X_train_lsa) * np.asmatrix(X_train_lsa).T)\n",
        "#Only taking the first 10 sentences\n",
        "sim_matrix=pd.DataFrame(similarity,index=X_train).iloc[0:10,0:10]\n",
        "#Making a plot\n",
        "ax = sns.heatmap(sim_matrix,yticklabels=range(10))\n",
        "plt.show()\n",
        "\n",
        "#Generating a key for the plot.\n",
        "print('Key:')\n",
        "for i in range(10):\n",
        "    print(i,sim_matrix.index[i])"
      ],
      "execution_count": 76,
      "outputs": [
        {
          "output_type": "display_data",
          "data": {
            "image/png": "[encoded data removed]",
            "text/plain": [
              "<Figure size 432x288 with 2 Axes>"
            ]
          },
          "metadata": {
            "tags": []
          }
        },
        {
          "output_type": "stream",
          "text": [
            "Key:\n",
            "0 And I thank Vice President Gore for a contest conducted with spirit and ended with grace .\n",
            "1 Never tiring , never yielding , never finishing , we renew that purpose today , to make our country more just and generous , to affirm the dignity of our lives and every life .\n",
            "2 But the stakes for America are never small .\n",
            "3 Today , we affirm a new commitment to live out our nation ' s promise through civility , courage , compassion and character .\n",
            "4 And whatever our views of its cause , we can agree that children at risk are not at fault .\n",
            "5 Together , we will reclaim America ' s schools , before ignorance and apathy claim more young lives .\n",
            "6 America , at its best , matches a commitment to principle with a concern for civility .\n",
            "7 What you do is as important as anything government does .\n",
            "8 America , at its best , is also courageous .\n",
            "9 Americans are generous and strong and decent , not because we believe in ourselves , but because we hold beliefs beyond ourselves .\n"
          ],
          "name": "stdout"
        }
      ]
    },
    {
      "metadata": {
        "id": "M-SYHQHHxiPa",
        "colab_type": "code",
        "colab": {
          "base_uri": "https://localhost:8080/",
          "height": 34
        },
        "outputId": "ab36bec2-7c3c-433f-89e1-26bd46ee97b8"
      },
      "cell_type": "code",
      "source": [
        "from sklearn.feature_extraction.text import TfidfVectorizer\n",
        "\n",
        "X_train, X_test = train_test_split(obama_paras, test_size=0.3, random_state=0)\n",
        "\n",
        "vectorizer = TfidfVectorizer(max_df=0.5, # drop words that occur in more than half the paragraphs\n",
        "                             min_df=2, # only use words that appear at least twice\n",
        "                             stop_words='english', \n",
        "                             lowercase=True, #convert everything to lower case\n",
        "                             use_idf=True,#we definitely want to use inverse document frequencies in our weighting\n",
        "                             norm=None, #Applies a correction factor so that longer paragraphs and shorter paragraphs get treated equally\n",
        "                             smooth_idf=True #Adds 1 to all document frequencies, as if an extra document existed that used every word once.  Prevents divide-by-zero errors\n",
        "                            )\n",
        "\n",
        "#Applying the vectorizer\n",
        "obama_inaug_tfidf=vectorizer.fit_transform(obama_paras)\n",
        "print(\"Number of features: %d\" % obama_inaug_tfidf.get_shape()[1])"
      ],
      "execution_count": 117,
      "outputs": [
        {
          "output_type": "stream",
          "text": [
            "Number of features: 27\n"
          ],
          "name": "stdout"
        }
      ]
    },
    {
      "metadata": {
        "id": "A2-qkt4_pVSA",
        "colab_type": "code",
        "colab": {
          "base_uri": "https://localhost:8080/",
          "height": 51
        },
        "outputId": "f72cb4d0-fc66-4f03-8812-5f61db4584f1"
      },
      "cell_type": "code",
      "source": [
        "# Obama Inaugural Address\n",
        "\n",
        "X_train_tfidf, X_test_tfidf= train_test_split(obama_inaug_tfidf, test_size=0.3, random_state=0)\n",
        "\n",
        "\n",
        "#Reshapes the vectorizer output into something people can read\n",
        "X_train_tfidf_csr = X_train_tfidf.tocsr()\n",
        "\n",
        "#number of paragraphs\n",
        "n = X_train_tfidf_csr.shape[0]\n",
        "#A list of dictionaries, one per paragraph\n",
        "tfidf_bypara = [{} for _ in range(0,n)]\n",
        "#List of features\n",
        "terms = vectorizer.get_feature_names()\n",
        "#for each paragraph, lists the feature words and their tf-idf scores\n",
        "for i, j in zip(*X_train_tfidf_csr.nonzero()):\n",
        "    tfidf_bypara[i][terms[j]] = X_train_tfidf_csr[i, j]\n",
        "\n",
        "#Keep in mind that the log base 2 of 1 is 0, so a tf-idf score of 0 indicates that the word was present once in that sentence.\n",
        "print('Original sentence:', X_train[2])\n",
        "print('Tf_idf vector:', tfidf_bypara[2])"
      ],
      "execution_count": 118,
      "outputs": [
        {
          "output_type": "stream",
          "text": [
            "Original sentence: Our challenges may be new .\n",
            "Tf_idf vector: {'new': 3.224623551524334, 'challenges': 3.512305623976115}\n"
          ],
          "name": "stdout"
        }
      ]
    },
    {
      "metadata": {
        "id": "GSVp8g0OrbA_",
        "colab_type": "code",
        "colab": {
          "base_uri": "https://localhost:8080/",
          "height": 34
        },
        "outputId": "5331da39-ad47-4700-d19e-48e5e2f98455"
      },
      "cell_type": "code",
      "source": [
        "#Our SVD data reducer.  We are going to reduce the feature space from 1379 to 130.\n",
        "svd= TruncatedSVD(10)\n",
        "lsa = make_pipeline(svd, Normalizer(copy=False))\n",
        "# Run SVD on the training data, then project the training data.\n",
        "X_train_lsa = lsa.fit_transform(X_train_tfidf)\n",
        "\n",
        "variance_explained=svd.explained_variance_ratio_\n",
        "total_variance = variance_explained.sum()\n",
        "print(\"Percent variance captured by all components:\",total_variance*100)"
      ],
      "execution_count": 119,
      "outputs": [
        {
          "output_type": "stream",
          "text": [
            "Percent variance captured by all components: 86.1705699802513\n"
          ],
          "name": "stdout"
        }
      ]
    },
    {
      "metadata": {
        "id": "JoIkY5RSr9GN",
        "colab_type": "code",
        "colab": {
          "base_uri": "https://localhost:8080/",
          "height": 472
        },
        "outputId": "f226e9d0-c31e-4454-ed08-5c40dc9141c1"
      },
      "cell_type": "code",
      "source": [
        "# Compute document similarity using LSA components\n",
        "similarity = np.asarray(np.asmatrix(X_train_lsa) * np.asmatrix(X_train_lsa).T)\n",
        "#Only taking the first 10 sentences\n",
        "sim_matrix=pd.DataFrame(similarity,index=X_train).iloc[0:10,0:10]\n",
        "#Making a plot\n",
        "ax = sns.heatmap(sim_matrix,yticklabels=range(10))\n",
        "plt.show()\n",
        "\n",
        "#Generating a key for the plot.\n",
        "print('Key:')\n",
        "for i in range(10):\n",
        "    print(i,sim_matrix.index[i])"
      ],
      "execution_count": 120,
      "outputs": [
        {
          "output_type": "display_data",
          "data": {
            "image/png": "[encoded data removed]",
            "text/plain": [
              "<Figure size 432x288 with 2 Axes>"
            ]
          },
          "metadata": {
            "tags": []
          }
        },
        {
          "output_type": "stream",
          "text": [
            "Key:\n",
            "0 Thank you .\n",
            "1 \" Let it be told to the future world ... that in the depth of winter , when nothing but hope and virtue could survive ... that the city and the country , alarmed at one common danger , came forth to meet ...\n",
            "2 Our challenges may be new .\n",
            "3 So let us mark this day with remembrance , of who we are and how far we have traveled .\n",
            "4 On this day , we come to proclaim an end to the petty grievances and false promises , the recriminations and worn - out dogmas that for far too long have strangled our politics .\n",
            "5 For us , they fought and died , in places like Concord and Gettysburg ; Normandy and Khe Sahn .\n",
            "6 These are the indicators of crisis , subject to data and statistics .\n",
            "7 Now , there are some who question the scale of our ambitions  who suggest that our system cannot tolerate too many big plans .\n",
            "8 Time and again these men and women struggled and sacrificed and worked till their hands were raw so that we might live a better life .\n",
            "9 On this day , we gather because we have chosen hope over fear , unity of purpose over conflict and discord .\n"
          ],
          "name": "stdout"
        }
      ]
    },
    {
      "metadata": {
        "id": "cz-xM9GNsDkP",
        "colab_type": "code",
        "colab": {}
      },
      "cell_type": "code",
      "source": [
        ""
      ],
      "execution_count": 0,
      "outputs": []
    }
  ]
}