{
 "cells": [
  {
   "cell_type": "code",
   "execution_count": 1,
   "metadata": {},
   "outputs": [],
   "source": [
    "# Ignore warnings\n",
    "import warnings\n",
    "warnings.filterwarnings('ignore')\n",
    "import pandas as pd\n",
    "import numpy as np\n",
    "import matplotlib.pyplot as plt\n",
    "import seaborn as sns\n",
    "import math"
   ]
  },
  {
   "cell_type": "code",
   "execution_count": 2,
   "metadata": {},
   "outputs": [],
   "source": [
    "df = pd.read_csv(\"C:\\\\Users\\\\Chris\\\\Documents\\\\Python Scripts\\\\Thinkful File Examples\\\\NEW_YORK-Offenses_Known_to_Law_Enforcement_by_City_2013 - 13tbl8ny.csv\", header=4)"
   ]
  },
  {
   "cell_type": "code",
   "execution_count": 3,
   "metadata": {},
   "outputs": [],
   "source": [
    "df['Population'] = df['Population'].str.replace(',', '')\n",
    "df['Robbery'] = df['Robbery'].str.replace(',', '')\n",
    "df['Population'] = pd.to_numeric(df['Population'])\n",
    "df['Population'] = df['Population']\n",
    "df = df.drop([348, 349, 350])\n",
    "df.fillna(0)\n",
    "df['Robbery'] = pd.to_numeric(df['Robbery'])"
   ]
  },
  {
   "cell_type": "code",
   "execution_count": 4,
   "metadata": {},
   "outputs": [],
   "source": [
    "df['Murder'] = (df['Murder and\\nnonnegligent\\nmanslaughter'] == 0)\n",
    "df['Robbery_x'] = (df['Robbery'] == 0)\n",
    "df['Murder'] = pd.get_dummies(df['Murder'])\n",
    "df['Robbery_x'] = pd.get_dummies(df['Robbery_x'])\n",
    "df['Pop_squared'] = df['Population']**2"
   ]
  },
  {
   "cell_type": "code",
   "execution_count": 7,
   "metadata": {},
   "outputs": [
    {
     "data": {
      "text/plain": [
       "<matplotlib.collections.PathCollection at 0x248ad5f9a90>"
      ]
     },
     "execution_count": 7,
     "metadata": {},
     "output_type": "execute_result"
    },
    {
     "data": {
      "image/png": "[encoded data removed]",
      "text/plain": [
       "<Figure size 432x288 with 1 Axes>"
      ]
     },
     "metadata": {},
     "output_type": "display_data"
    }
   ],
   "source": [
    "plt.scatter(df['Murder and\\nnonnegligent\\nmanslaughter'], df['Robbery'])"
   ]
  },
  {
   "cell_type": "code",
   "execution_count": 9,
   "metadata": {},
   "outputs": [
    {
     "data": {
      "text/plain": [
       "count      348.000000\n",
       "mean        72.902299\n",
       "std       1031.032873\n",
       "min          0.000000\n",
       "25%          0.000000\n",
       "50%          1.000000\n",
       "75%          5.000000\n",
       "max      19170.000000\n",
       "Name: Robbery, dtype: float64"
      ]
     },
     "execution_count": 9,
     "metadata": {},
     "output_type": "execute_result"
    }
   ],
   "source": [
    "df['Robbery'].describe()"
   ]
  },
  {
   "cell_type": "code",
   "execution_count": 15,
   "metadata": {},
   "outputs": [
    {
     "data": {
      "text/plain": [
       "216    19170\n",
       "35      1322\n",
       "272      918\n",
       "310      400\n",
       "346      390\n",
       "206      228\n",
       "3        227\n",
       "140      204\n",
       "285      203\n",
       "218      166\n",
       "209      150\n",
       "315      145\n",
       "321      102\n",
       "22       101\n",
       "262      100\n",
       "214       81\n",
       "108       76\n",
       "126       60\n",
       "152       51\n",
       "53        48\n",
       "195       47\n",
       "154       39\n",
       "305       34\n",
       "62        31\n",
       "7         31\n",
       "93        29\n",
       "340       28\n",
       "314       26\n",
       "271       26\n",
       "161       25\n",
       "       ...  \n",
       "90         0\n",
       "266        0\n",
       "268        0\n",
       "87         0\n",
       "270        0\n",
       "275        0\n",
       "280        0\n",
       "284        0\n",
       "79         0\n",
       "78         0\n",
       "258        0\n",
       "98         0\n",
       "228        0\n",
       "99         0\n",
       "118        0\n",
       "116        0\n",
       "232        0\n",
       "238        0\n",
       "243        0\n",
       "244        0\n",
       "245        0\n",
       "109        0\n",
       "250        0\n",
       "105        0\n",
       "104        0\n",
       "251        0\n",
       "102        0\n",
       "252        0\n",
       "255        0\n",
       "0          0\n",
       "Name: Robbery, Length: 348, dtype: int64"
      ]
     },
     "execution_count": 15,
     "metadata": {},
     "output_type": "execute_result"
    }
   ],
   "source": [
    "df['Robbery'].sort_values(ascending=False)"
   ]
  },
  {
   "cell_type": "code",
   "execution_count": 16,
   "metadata": {},
   "outputs": [
    {
     "data": {
      "text/plain": [
       "City                                         New York\n",
       "Population                                8.39613e+06\n",
       "Violent\\ncrime                                 52,384\n",
       "Murder and\\nnonnegligent\\nmanslaughter            335\n",
       "Rape\\n(revised\\ndefinition)1                      NaN\n",
       "Rape\\n(legacy\\ndefinition)2                     1,112\n",
       "Robbery                                         19170\n",
       "Aggravated\\nassault                            31,767\n",
       "Property\\ncrime                               141,971\n",
       "Burglary                                       16,606\n",
       "Larceny-\\ntheft                               117,931\n",
       "Motor\\nvehicle\\ntheft                           7,434\n",
       "Arson3                                            NaN\n",
       "Murder                                              1\n",
       "Robbery_x                                           1\n",
       "Pop_squared                               7.04949e+13\n",
       "Name: 216, dtype: object"
      ]
     },
     "execution_count": 16,
     "metadata": {},
     "output_type": "execute_result"
    }
   ],
   "source": [
    "df.iloc[216]"
   ]
  },
  {
   "cell_type": "code",
   "execution_count": null,
   "metadata": {},
   "outputs": [],
   "source": []
  }
 ],
 "metadata": {
  "kernelspec": {
   "display_name": "Python 3",
   "language": "python",
   "name": "python3"
  },
  "language_info": {
   "codemirror_mode": {
    "name": "ipython",
    "version": 3
   },
   "file_extension": ".py",
   "mimetype": "text/x-python",
   "name": "python",
   "nbconvert_exporter": "python",
   "pygments_lexer": "ipython3",
   "version": "3.6.5"
  }
 },
 "nbformat": 4,
 "nbformat_minor": 2
}
