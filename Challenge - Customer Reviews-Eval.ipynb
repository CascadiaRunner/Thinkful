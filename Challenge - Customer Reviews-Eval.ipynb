{
 "cells": [
  {
   "cell_type": "markdown",
   "metadata": {},
   "source": [
    "## Customer Reviews Challenge ##\n",
    "\n",
    "The follow exercise is for the customer reviews challenge.  I used a naive bayes model attempt to predict whether a Yelp review was postive or negative.  This model was then tested on a Amazon reviews dataset."
   ]
  },
  {
   "cell_type": "code",
   "execution_count": 1,
   "metadata": {},
   "outputs": [],
   "source": [
    "# Ignore warnings\n",
    "import warnings\n",
    "warnings.filterwarnings('ignore')\n",
    "import pandas as pd\n",
    "import numpy as np\n",
    "import matplotlib.pyplot as plt\n",
    "import seaborn as sns\n",
    "import math\n",
    "from matplotlib.mlab import PCA as mlabPCA\n",
    "from sklearn.preprocessing import StandardScaler\n",
    "from sklearn.decomposition import PCA \n",
    "import scipy.stats as stats"
   ]
  },
  {
   "cell_type": "code",
   "execution_count": 2,
   "metadata": {
    "scrolled": true
   },
   "outputs": [],
   "source": [
    "# IMPORTING YELP DATA\n",
    "df = pd.read_csv(\"C:\\\\Users\\\\Chris\\\\Documents\\\\Python Scripts\\\\Thinkful File Examples\\\\Sentiment\\\\sentiment labelled sentences\\\\yelp_labelled.txt\", delimiter='\\t', header=None)\n",
    "df.columns=['comment', 'score']"
   ]
  },
  {
   "cell_type": "markdown",
   "metadata": {},
   "source": [
    "## Data Cleaning ##\n",
    "\n",
    "The first step was to clean the data.  Below, I used a function that made the string lowercase and removed all symbols and blanks.\n",
    "\n",
    "Also above is my global list of some frequently used conjunctions."
   ]
  },
  {
   "cell_type": "code",
   "execution_count": 3,
   "metadata": {},
   "outputs": [],
   "source": [
    "conj = ['the','and','i','a','to','this','in','of','it','was','we','is','my', 'im', 'if', 'on', 'be', 'our', 'you']\n",
    "\n",
    "def dataclean(data):\n",
    "    # Make everything lower case\n",
    "    data = data.str.lower()\n",
    "\n",
    "    # Remove non-text characters\n",
    "    data = data.str.replace(r'\\.|\\!|\\?|\\'|,|-|\\(|\\)', \"\",)\n",
    "\n",
    "    # Fill in blank reviews with '' rather than Null (which would give us errors)\n",
    "    data = data\n",
    "    return data\n",
    "\n",
    "df['comment'] = dataclean(df['comment'])\n",
    "    "
   ]
  },
  {
   "cell_type": "markdown",
   "metadata": {},
   "source": [
    "## Feature Engineering ##\n",
    "\n",
    "In the next step, I wanted to find out which words were prevalent in positive comments and which were prevalent in negative comments.\n",
    "\n",
    "The below code takes each comment and splits it down to the word level.  Words are then counted to see how many occur in both positive and negative data sets.  Common conjunctions where removed.  Use cell outputs a list of the top 50 in each dataset."
   ]
  },
  {
   "cell_type": "code",
   "execution_count": 4,
   "metadata": {},
   "outputs": [
    {
     "data": {
      "text/plain": [
       "great         29\n",
       "service       20\n",
       "good          19\n",
       "food          17\n",
       "they          14\n",
       "very          11\n",
       "for            9\n",
       "back           8\n",
       "are            8\n",
       "their          7\n",
       "have           7\n",
       "best           6\n",
       "also           6\n",
       "place          6\n",
       "so             6\n",
       "all            6\n",
       "definitely     5\n",
       "as             5\n",
       "here           5\n",
       "nice           5\n",
       "its            5\n",
       "will           5\n",
       "were           5\n",
       "everything     4\n",
       "spicy          4\n",
       "delicious      4\n",
       "both           4\n",
       "really         4\n",
       "an             4\n",
       "always         4\n",
       "just           4\n",
       "when           4\n",
       "awesome        4\n",
       "selection      4\n",
       "by             4\n",
       "he             4\n",
       "only           4\n",
       "had            4\n",
       "stars          3\n",
       "steak          3\n",
       "bread          3\n",
       "time           3\n",
       "spot           3\n",
       "pretty         3\n",
       "say            3\n",
       "5              3\n",
       "that           3\n",
       "now            3\n",
       "beer           3\n",
       "fantastic      3\n",
       "dtype: int64"
      ]
     },
     "execution_count": 4,
     "metadata": {},
     "output_type": "execute_result"
    }
   ],
   "source": [
    "# Postive comments Engineering Selection\n",
    "\n",
    "positive_comments = df.loc[df['score'] == 1]\n",
    "pos_wordcount = {}\n",
    "\n",
    "# Test for most used single words\n",
    "for i, row in positive_comments.iterrows():\n",
    "    words = row['comment'].split()\n",
    "    for x in words:\n",
    "        # Remove Conjunctions\n",
    "        if x in conj:\n",
    "            break\n",
    "        # else add to wordcount dict for counting\n",
    "        elif x not in pos_wordcount:\n",
    "            pos_wordcount[x] = 1\n",
    "        else:\n",
    "            pos_wordcount[x] += 1\n",
    "            \n",
    "# View the Top 50 words\n",
    "pd.Series(pos_wordcount).sort_values(ascending=False)[0:50]"
   ]
  },
  {
   "cell_type": "markdown",
   "metadata": {},
   "source": []
  },
  {
   "cell_type": "code",
   "execution_count": 5,
   "metadata": {},
   "outputs": [
    {
     "data": {
      "text/plain": [
       "not              21\n",
       "service          12\n",
       "for              12\n",
       "very             11\n",
       "never            11\n",
       "there             9\n",
       "food              8\n",
       "go                8\n",
       "ive               8\n",
       "your              8\n",
       "here              8\n",
       "they              7\n",
       "bad               7\n",
       "but               7\n",
       "at                7\n",
       "back              7\n",
       "been              7\n",
       "dont              7\n",
       "after             6\n",
       "will              6\n",
       "what              6\n",
       "ordered           5\n",
       "as                5\n",
       "are               5\n",
       "from              5\n",
       "ever              5\n",
       "an                5\n",
       "like              5\n",
       "all               5\n",
       "so                5\n",
       "when              4\n",
       "no                4\n",
       "overall           4\n",
       "had               4\n",
       "time              4\n",
       "waste             4\n",
       "have              4\n",
       "worst             4\n",
       "its               4\n",
       "unfortunately     3\n",
       "he                3\n",
       "even              3\n",
       "came              3\n",
       "more              3\n",
       "again             3\n",
       "money             3\n",
       "total             3\n",
       "that              3\n",
       "by                3\n",
       "do                3\n",
       "dtype: int64"
      ]
     },
     "execution_count": 5,
     "metadata": {},
     "output_type": "execute_result"
    }
   ],
   "source": [
    "# Negative comments Engineering Selection\n",
    "\n",
    "negative_comments = df.loc[df['score'] == 0]\n",
    "neg_wordcount = {}\n",
    "\n",
    "for i, row in negative_comments.iterrows():\n",
    "    words = row['comment'].split()\n",
    "    for x in words:\n",
    "        # Conjunction words\n",
    "        if x in conj:\n",
    "            break\n",
    "        # else add to wordcount dict\n",
    "        elif x not in neg_wordcount:\n",
    "            neg_wordcount[x] = 1\n",
    "        else:\n",
    "            neg_wordcount[x] += 1\n",
    "\n",
    "pd.Series(neg_wordcount).sort_values(ascending=False)[0:50]"
   ]
  },
  {
   "cell_type": "markdown",
   "metadata": {},
   "source": [
    "Below is an attempt to look at the similarities between the two word dicts and if there are words that are common in both dicts.\n",
    "\n"
   ]
  },
  {
   "cell_type": "code",
   "execution_count": 36,
   "metadata": {},
   "outputs": [
    {
     "data": {
      "text/html": [
       "<div>\n",
       "<style scoped>\n",
       "    .dataframe tbody tr th:only-of-type {\n",
       "        vertical-align: middle;\n",
       "    }\n",
       "\n",
       "    .dataframe tbody tr th {\n",
       "        vertical-align: top;\n",
       "    }\n",
       "\n",
       "    .dataframe thead th {\n",
       "        text-align: right;\n",
       "    }\n",
       "</style>\n",
       "<table border=\"1\" class=\"dataframe\">\n",
       "  <thead>\n",
       "    <tr style=\"text-align: right;\">\n",
       "      <th></th>\n",
       "      <th>words</th>\n",
       "      <th>match</th>\n",
       "      <th>score</th>\n",
       "    </tr>\n",
       "  </thead>\n",
       "  <tbody>\n",
       "    <tr>\n",
       "      <th>49</th>\n",
       "      <td>good</td>\n",
       "      <td>True</td>\n",
       "      <td>17</td>\n",
       "    </tr>\n",
       "    <tr>\n",
       "      <th>37</th>\n",
       "      <td>food</td>\n",
       "      <td>True</td>\n",
       "      <td>9</td>\n",
       "    </tr>\n",
       "    <tr>\n",
       "      <th>5</th>\n",
       "      <td>service</td>\n",
       "      <td>True</td>\n",
       "      <td>8</td>\n",
       "    </tr>\n",
       "    <tr>\n",
       "      <th>9</th>\n",
       "      <td>they</td>\n",
       "      <td>True</td>\n",
       "      <td>7</td>\n",
       "    </tr>\n",
       "    <tr>\n",
       "      <th>31</th>\n",
       "      <td>their</td>\n",
       "      <td>True</td>\n",
       "      <td>5</td>\n",
       "    </tr>\n",
       "    <tr>\n",
       "      <th>56</th>\n",
       "      <td>best</td>\n",
       "      <td>True</td>\n",
       "      <td>5</td>\n",
       "    </tr>\n",
       "    <tr>\n",
       "      <th>135</th>\n",
       "      <td>only</td>\n",
       "      <td>True</td>\n",
       "      <td>3</td>\n",
       "    </tr>\n",
       "    <tr>\n",
       "      <th>77</th>\n",
       "      <td>have</td>\n",
       "      <td>True</td>\n",
       "      <td>3</td>\n",
       "    </tr>\n",
       "    <tr>\n",
       "      <th>40</th>\n",
       "      <td>definitely</td>\n",
       "      <td>True</td>\n",
       "      <td>3</td>\n",
       "    </tr>\n",
       "    <tr>\n",
       "      <th>98</th>\n",
       "      <td>were</td>\n",
       "      <td>True</td>\n",
       "      <td>3</td>\n",
       "    </tr>\n",
       "  </tbody>\n",
       "</table>\n",
       "</div>"
      ],
      "text/plain": [
       "          words match score\n",
       "49         good  True    17\n",
       "37         food  True     9\n",
       "5       service  True     8\n",
       "9          they  True     7\n",
       "31        their  True     5\n",
       "56         best  True     5\n",
       "135        only  True     3\n",
       "77         have  True     3\n",
       "40   definitely  True     3\n",
       "98         were  True     3"
      ]
     },
     "execution_count": 36,
     "metadata": {},
     "output_type": "execute_result"
    }
   ],
   "source": [
    "# Discover whether a word in the positive wordcount dict is in negative wordcount dict\n",
    "disc_df = pd.DataFrame(columns=['words', 'match', 'score'])\n",
    "disc_df['words'] = list(pos_wordcount.keys())\n",
    "for i, row in disc_df.iterrows():\n",
    "    try:\n",
    "        x = row['words'] #If True than 'match' = True - Indicates if words are in BOTH dicts\n",
    "        row['match'] = True\n",
    "        #Score is finding if there are more matched words in Positive Comments vs Negative Comments  \n",
    "        row['score'] = pos_wordcount[x] - neg_wordcount[x]\n",
    "    except:\n",
    "        row['match'] = False\n",
    "        pass\n",
    "\n",
    "disc_df.loc[disc_df['match'] == True]\n",
    "disc_df.sort_values('score', ascending=False).head(10)\n",
    "#disc_df.sort_values('score', ascending=True).head(10)"
   ]
  },
  {
   "cell_type": "code",
   "execution_count": 7,
   "metadata": {},
   "outputs": [
    {
     "data": {
      "text/plain": [
       "19"
      ]
     },
     "execution_count": 7,
     "metadata": {},
     "output_type": "execute_result"
    }
   ],
   "source": [
    "pos_wordcount['good']"
   ]
  },
  {
   "cell_type": "markdown",
   "metadata": {},
   "source": [
    "Positive words like 'great', 'good', 'best', 'nice', 'delicious', 'awesome' and 'amazing' were all represented on the list and could be a good indication that this review was a positive one.\n",
    "\n",
    "Negative words like 'never', 'bad', 'worst', 'waste' and 'unfortunately' were all represented on the list and could be a good indication that this review was a negative one."
   ]
  },
  {
   "cell_type": "code",
   "execution_count": 40,
   "metadata": {},
   "outputs": [],
   "source": [
    "positive_keywords = ['great', 'good', 'best', 'nice', 'delicious', 'awesome', 'amazing', 'beautiful', 'recommendation']\n",
    "negative_keywords = ['not', 'never', 'bad', 'worst', 'waste', 'unfortunately']\n",
    "\n",
    "def keywordcheck(keywords, df):\n",
    "    for key in keywords:\n",
    "        df[str(key)] = df.comment.str.contains(str(key), case=False)\n",
    "    return df\n",
    "    \n",
    "ptest = keywordcheck(positive_keywords, df)\n",
    "#ptest = ptest.drop(labels=negative_keywords, axis=1)\n",
    "ntest = keywordcheck(negative_keywords, df)\n",
    "#ntest = ntest.drop(labels=positive_keywords, axis=1)"
   ]
  },
  {
   "cell_type": "code",
   "execution_count": null,
   "metadata": {},
   "outputs": [],
   "source": []
  },
  {
   "cell_type": "code",
   "execution_count": 10,
   "metadata": {},
   "outputs": [],
   "source": [
    "ptest['score'] = (ptest['score'] == 1)\n",
    "ntest['score'] = (ntest['score'] == 0)"
   ]
  },
  {
   "cell_type": "code",
   "execution_count": 11,
   "metadata": {},
   "outputs": [
    {
     "name": "stderr",
     "output_type": "stream",
     "text": [
      "C:\\Users\\Chris\\Anaconda3\\lib\\site-packages\\matplotlib\\figure.py:459: UserWarning: matplotlib is currently using a non-GUI backend, so cannot show the figure\n",
      "  \"matplotlib is currently using a non-GUI backend, \"\n"
     ]
    },
    {
     "data": {
      "image/png": "[encoded data removed]",
      "text/plain": [
       "<Figure size 432x288 with 4 Axes>"
      ]
     },
     "metadata": {},
     "output_type": "display_data"
    }
   ],
   "source": [
    "fig, (ax, ax2) = plt.subplots(ncols=2)\n",
    "sns.heatmap(ptest.corr(), ax=ax)\n",
    "sns.heatmap(ntest.corr(), ax=ax2)\n",
    "fig.show()"
   ]
  },
  {
   "cell_type": "markdown",
   "metadata": {},
   "source": [
    "Looking at the above heatmap - there appears to be some correlations in the positive comments with the words ‘great’ and ‘beautiful’ and ‘great’ and ‘awesome’.  But there are not any strong correlations between the ‘score’ and any other features.  In the negative heatmap, ‘not’ and ‘score’ has a strong correlation. "
   ]
  },
  {
   "cell_type": "markdown",
   "metadata": {},
   "source": [
    "Below is the naive bayes model.  Its using the Bernoulli classifier since this is a boolean output."
   ]
  },
  {
   "cell_type": "code",
   "execution_count": 41,
   "metadata": {
    "scrolled": true
   },
   "outputs": [
    {
     "name": "stdout",
     "output_type": "stream",
     "text": [
      "Number of correctly labeled points out of a total 1000 points : 690\n",
      "Number of mislabeled points out of a total 1000 points : 310\n",
      "With 20% Holdout: 0.705\n",
      "Testing on Sample: 0.69\n",
      "[0.67 0.7  0.67 0.75 0.65 0.65 0.7  0.69 0.7  0.72]\n",
      "Number of correctly labeled points out of a total 1000 points : 633\n",
      "Number of mislabeled points out of a total 1000 points : 367\n",
      "With 20% Holdout: 0.6\n",
      "Testing on Sample: 0.633\n",
      "[0.66 0.57 0.68 0.62 0.66 0.65 0.64 0.64 0.61 0.6 ]\n"
     ]
    }
   ],
   "source": [
    "# Our data is binary / boolean, so we're importing the Bernoulli classifier.\n",
    "from sklearn.naive_bayes import BernoulliNB\n",
    "from sklearn.model_selection import train_test_split, cross_val_score\n",
    "def naivebayes(data, target):\n",
    "    # Instantiate our model and store it in a new variable.\n",
    "    bnb = BernoulliNB()\n",
    "    # Fit our model to the data.\n",
    "    bnb.fit(data, target)\n",
    "    # Classify, storing the result in a new variable.\n",
    "    y_pred = bnb.predict(data)\n",
    "    # Display our results.\n",
    "    print(\"Number of correctly labeled points out of a total {} points : {}\".format(\n",
    "        data.shape[0],\n",
    "        (target == y_pred).sum()\n",
    "    ))\n",
    "    \n",
    "    print(\"Number of mislabeled points out of a total {} points : {}\".format(\n",
    "        data.shape[0],\n",
    "        (target != y_pred).sum()\n",
    "    ))\n",
    "    \n",
    "    # Holdouts\n",
    "    X_train, X_test, y_train, y_test = train_test_split(data, target, test_size=0.2, random_state=20)\n",
    "    print('With 20% Holdout: ' + str(bnb.fit(X_train, y_train).score(X_test, y_test)))\n",
    "    print('Testing on Sample: ' + str(bnb.fit(data, target).score(data, target)))\n",
    "    \n",
    "    # Cross Validation\n",
    "    print(cross_val_score(bnb, data, target, cv=10))\n",
    "    return y_pred\n",
    "    \n",
    "    \n",
    "pos_yelp = naivebayes(ptest[positive_keywords], df['score'])\n",
    "neg_yelp = naivebayes(ntest[negative_keywords], df['score'])"
   ]
  },
  {
   "cell_type": "markdown",
   "metadata": {},
   "source": [
    "Using the model above, we came up to a 69% success rate in detecting both positive and 63% negative comments on Yelp."
   ]
  },
  {
   "cell_type": "code",
   "execution_count": 13,
   "metadata": {},
   "outputs": [],
   "source": [
    "amazon_df = pd.read_csv(\"C:\\\\Users\\\\Chris\\\\Documents\\\\Python Scripts\\\\Thinkful File Examples\\\\Sentiment\\\\sentiment labelled sentences\\\\amazon_cells_labelled.txt\", delimiter='\\t', header=None)\n",
    "amazon_df.columns=['comment', 'score']"
   ]
  },
  {
   "cell_type": "code",
   "execution_count": 14,
   "metadata": {},
   "outputs": [
    {
     "name": "stdout",
     "output_type": "stream",
     "text": [
      "Number of correctly labeled points out of a total 1000 points : 521\n",
      "Number of mislabeled points out of a total 1000 points : 479\n",
      "Number of correctly labeled points out of a total 1000 points : 519\n",
      "Number of mislabeled points out of a total 1000 points : 481\n"
     ]
    }
   ],
   "source": [
    "amazon_ptest = keywordcheck(positive_keywords, amazon_df)\n",
    "amazon_ntest = keywordcheck(negative_keywords, amazon_df)\n",
    "\n",
    "amazon_ptest['score'] = (amazon_ptest['score'] == 1)\n",
    "amazon_ntest['score'] = (amazon_ntest['score'] == 0)\n",
    "\n",
    "pos_amazon = naivebayes(ptest[positive_keywords], amazon_df['score'])\n",
    "neg_amazon = naivebayes(ntest[negative_keywords], amazon_df['score'])"
   ]
  },
  {
   "cell_type": "markdown",
   "metadata": {},
   "source": [
    "But using the Amazon reviews this model only achieves 52% success on both positive and negative reviews."
   ]
  },
  {
   "cell_type": "markdown",
   "metadata": {},
   "source": [
    "## Evaluation ##"
   ]
  },
  {
   "cell_type": "code",
   "execution_count": 31,
   "metadata": {},
   "outputs": [
    {
     "data": {
      "text/plain": [
       "array([[225, 275],\n",
       "       [ 35, 465]], dtype=int64)"
      ]
     },
     "execution_count": 31,
     "metadata": {},
     "output_type": "execute_result"
    }
   ],
   "source": [
    "import sklearn\n",
    "     \n",
    "sklearn.metrics.confusion_matrix(df['score'], pos_yelp, labels=None, sample_weight=None )\n",
    "    "
   ]
  },
  {
   "cell_type": "markdown",
   "metadata": {},
   "source": [
    "The positive yelp model correctly predicted 225 TPs of 500 Total Positives.  The sensitivity of this model is not very good and produced a lot of false positives."
   ]
  },
  {
   "cell_type": "code",
   "execution_count": 32,
   "metadata": {},
   "outputs": [
    {
     "data": {
      "text/plain": [
       "array([[472,  28],\n",
       "       [339, 161]], dtype=int64)"
      ]
     },
     "execution_count": 32,
     "metadata": {},
     "output_type": "execute_result"
    }
   ],
   "source": [
    "sklearn.metrics.confusion_matrix(df['score'], neg_yelp, labels=None, sample_weight=None )"
   ]
  },
  {
   "cell_type": "markdown",
   "metadata": {},
   "source": [
    "The negative yelp model correctly predicted 472 of 811 True results but had a lot of Type 2 errors.\n",
    "\n",
    "The Positive model performed the better of the two models.  This is most likely due to have some better classifiers for Positive sentiment vs Negative sentiment.  From the research above is was much more difficult to narrow down which words were used primarily in the Negative comments.  It is likely that negative comments are more difficult because they use sequences words to describe negative sentiment or words that make positive words into negatives like 'not good'."
   ]
  },
  {
   "cell_type": "code",
   "execution_count": null,
   "metadata": {},
   "outputs": [],
   "source": []
  }
 ],
 "metadata": {
  "kernelspec": {
   "display_name": "Python 3",
   "language": "python",
   "name": "python3"
  },
  "language_info": {
   "codemirror_mode": {
    "name": "ipython",
    "version": 3
   },
   "file_extension": ".py",
   "mimetype": "text/x-python",
   "name": "python",
   "nbconvert_exporter": "python",
   "pygments_lexer": "ipython3",
   "version": "3.6.5"
  }
 },
 "nbformat": 4,
 "nbformat_minor": 2
}
