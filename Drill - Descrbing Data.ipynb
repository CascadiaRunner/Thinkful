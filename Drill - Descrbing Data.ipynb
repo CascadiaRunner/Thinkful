{
 "cells": [
  {
   "cell_type": "markdown",
   "metadata": {},
   "source": [
    "Now that we have introduced some tools for describing populations, let's try them out. First do these drills by hand, then use the Python code we've provided in the previous assignments to check your work. Keep track of your work in a Google document or markdown file that you can submit below and share with your mentor."
   ]
  },
  {
   "cell_type": "markdown",
   "metadata": {},
   "source": [
    "Greg was 14, Marcia was 12, Peter was 11, Jan was 10, Bobby was 8, and Cindy was 6 when they started playing the Brady kids on The Brady Bunch. Cousin Oliver was 8 years old when he joined the show. What are the mean, median, and mode of the kids' ages when they first appeared on the show? What are the variance, standard deviation, and standard error?"
   ]
  },
  {
   "cell_type": "code",
   "execution_count": 17,
   "metadata": {},
   "outputs": [
    {
     "data": {
      "text/plain": [
       "' By Hand:\\n    Mean - (14+12+11+10+8+6+8)/6 = 9.85\\n    Median - 10\\n    Mode - 8 \\n    Variance - 7.47619 **Used Excel to calculate this.  I got this figuring by dividing by n-1.  \\n        By dividing by n I was able to get 6.40 which would equal the same as np.var(). ??\\n    Standard Dev - 2.734262\\n    Standard Error - 1.033454'"
      ]
     },
     "execution_count": 17,
     "metadata": {},
     "output_type": "execute_result"
    }
   ],
   "source": [
    "''' By Hand:\n",
    "    Mean - (14+12+11+10+8+6+8)/6 = 9.85\n",
    "    Median - 10\n",
    "    Mode - 8 \n",
    "    Variance - 7.47619 **Used Excel to calculate this.  I got this figuring by dividing by n-1.  \n",
    "        By dividing by n I was able to get 6.40 which would equal the same as np.var(). ??\n",
    "    Standard Dev - 2.734262\n",
    "    Standard Error - 1.033454'''"
   ]
  },
  {
   "cell_type": "code",
   "execution_count": 18,
   "metadata": {},
   "outputs": [
    {
     "name": "stdout",
     "output_type": "stream",
     "text": [
      "Mean: 9.857142857142858\n",
      "Median: 10.0\n",
      "Mode: 8\n",
      "Variance: 6.408163265306122\n",
      "Standard Dev.: 2.734262327610589\n",
      "Standard Err.: 1.0334540197243192\n"
     ]
    }
   ],
   "source": [
    "import numpy as np\n",
    "import pandas as pd\n",
    "import statistics\n",
    "%matplotlib inline\n",
    "\n",
    "data = pd.DataFrame()\n",
    "data['ages'] = [14,12,11,10,8,6,8]\n",
    "print('Mean: ' + str(np.mean(data['ages'])))\n",
    "print('Median: ' + str(np.median(data['ages'])))\n",
    "print('Mode: ' + str(statistics.mode(data['ages'])))\n",
    "print('Variance: ' + str(np.var(data['ages'])))\n",
    "print('Standard Dev.: ' + str(np.std(data['ages'], ddof=1)))\n",
    "print('Standard Err.: ' + str(np.std(data['ages'], ddof=1) / np.sqrt(len(data['ages']))))"
   ]
  },
  {
   "cell_type": "markdown",
   "metadata": {},
   "source": [
    "Using these estimates, if you had to choose only one estimate of central tendency and one estimate of variance to describe the data, which would you pick and why?"
   ]
  },
  {
   "cell_type": "code",
   "execution_count": 22,
   "metadata": {},
   "outputs": [
    {
     "data": {
      "text/plain": [
       "\"For Central Tendancy, I would choose mean simply because there aren't extreme values that would skew the ages too far and mean is very close to the median.  Mode would be too biased toward the younger children.  I would also choose standard deviation considering mean and standard dev are closely linked and the values are relatively evenly spaced.\""
      ]
     },
     "execution_count": 22,
     "metadata": {},
     "output_type": "execute_result"
    }
   ],
   "source": [
    "\"\"\"For Central Tendancy, I would choose mean simply because there aren't extreme values that would skew the ages too far and mean is very close to the median.  Mode would be too biased toward the younger children.  I would also choose standard deviation considering mean and standard dev are closely linked and the values are relatively evenly spaced.\"\"\""
   ]
  },
  {
   "cell_type": "markdown",
   "metadata": {},
   "source": [
    "Next, Cindy has a birthday. Update your estimates- what changed, and what didn't?"
   ]
  },
  {
   "cell_type": "code",
   "execution_count": 20,
   "metadata": {},
   "outputs": [
    {
     "name": "stdout",
     "output_type": "stream",
     "text": [
      "Mean: 10.0\n",
      "Median: 10.0\n",
      "Mode: 8\n",
      "Variance: 5.428571428571429\n",
      "Standard Dev.: 2.516611478423583\n",
      "Standard Err.: 0.9511897312113418\n"
     ]
    }
   ],
   "source": [
    "data['ages'] = [14,12,11,10,8,7,8] #Cindy's brithday makes her age 7\n",
    "print('Mean: ' + str(np.mean(data['ages'])))\n",
    "print('Median: ' + str(np.median(data['ages'])))\n",
    "print('Mode: ' + str(statistics.mode(data['ages'])))\n",
    "print('Variance: ' + str(np.var(data['ages'])))\n",
    "print('Standard Dev.: ' + str(np.std(data['ages'], ddof=1)))\n",
    "print('Standard Err.: ' + str(np.std(data['ages'], ddof=1) / np.sqrt(len(data['ages']))))"
   ]
  },
  {
   "cell_type": "code",
   "execution_count": 21,
   "metadata": {},
   "outputs": [
    {
     "data": {
      "text/plain": [
       "\"Median and mode didn't change at all.  Mean moved slightly to be the same at median.  Variance, Standard Dev and Standard Error all declined\""
      ]
     },
     "execution_count": 21,
     "metadata": {},
     "output_type": "execute_result"
    }
   ],
   "source": [
    "\"\"\"Median and mode didn't change at all.  Mean moved slightly to be the same at median.  Variance, Standard Dev and Standard Error all declined\"\"\""
   ]
  },
  {
   "cell_type": "markdown",
   "metadata": {},
   "source": [
    "Nobody likes Cousin Oliver. Maybe the network should have used an even younger actor. Replace Cousin Oliver with 1-year-old Jessica, then recalculate again. Does this change your choice of central tendency or variance estimation methods?"
   ]
  },
  {
   "cell_type": "code",
   "execution_count": 40,
   "metadata": {},
   "outputs": [
    {
     "name": "stdout",
     "output_type": "stream",
     "text": [
      "Mean: 9.0\n",
      "Median: 10.0\n",
      "Mode: [ 1  7  8 10 11 12 14]\n",
      "Variance: 15.428571428571429\n",
      "Standard Dev.: 4.242640687119285\n",
      "Standard Err.: 1.6035674514745462\n"
     ]
    }
   ],
   "source": [
    "data['ages'] = [14,12,11,10,8,7,1] #Cousin Oliver replaced with 1 yr old Baby Jessica\n",
    "print('Mean: ' + str(np.mean(data['ages'])))\n",
    "print('Median: ' + str(np.median(data['ages'])))\n",
    "#print('Mode: ' + str(statistics.mode(data['ages'])))\n",
    "print('Mode: ' + str(np.unique(data['ages'])))\n",
    "print('Variance: ' + str(np.var(data['ages'])))\n",
    "print('Standard Dev.: ' + str(np.std(data['ages'], ddof=1)))\n",
    "print('Standard Err.: ' + str(np.std(data['ages'], ddof=1) / np.sqrt(len(data['ages']))))"
   ]
  },
  {
   "cell_type": "code",
   "execution_count": 36,
   "metadata": {},
   "outputs": [
    {
     "data": {
      "text/plain": [
       "\"First, I had to change my code because of the StatisticsError due to multiple modes.  I would change my central tendancy choice to median at this point.  There are now more extreme values to skew the mean toward the younger children. As for variance estimation, I think the variance is now better than standard deviation because the value got so large, most of the dataset would fall under 1 standard deviation.  This doesn't really tell us much.  Although, the actual value of variance might not be in the same unit of measure (In this case, Years.) Variance can at least give us a comparison to how variant both data sets are.    \""
      ]
     },
     "execution_count": 36,
     "metadata": {},
     "output_type": "execute_result"
    }
   ],
   "source": [
    "\"\"\"First, I had to change my code because of the StatisticsError due to multiple modes.  I would change my central tendancy choice to median at this point.  There are now more extreme values to skew the mean toward the younger children. As for variance estimation, I think the variance is now better than standard deviation because the value got so large, most of the dataset would fall under 1 standard deviation.  This doesn't really tell us much.  Although, the actual value of variance might not be in the same unit of measure (In this case, Years.) Variance can at least give us a comparison to how variant both data sets are.    \"\"\""
   ]
  },
  {
   "cell_type": "markdown",
   "metadata": {},
   "source": [
    "On the 50th anniversary of The Brady Bunch, four different magazines asked their readers whether they were fans of the show. The answers were: TV Guide 20% fans Entertainment Weekly 23% fans Pop Culture Today 17% fans SciPhi Phanatic 5% fans\n",
    "\n",
    "Based on these numbers, what percentage of adult Americans would you estimate were Brady Bunch fans on the 50th anniversary of the show?"
   ]
  },
  {
   "cell_type": "code",
   "execution_count": 41,
   "metadata": {},
   "outputs": [
    {
     "name": "stdout",
     "output_type": "stream",
     "text": [
      "Mean: 16.25\n",
      "Median: 18.5\n",
      "Variance: 46.6875\n",
      "Standard Dev.: 7.88986691902975\n",
      "Standard Err.: 3.944933459514875\n"
     ]
    }
   ],
   "source": [
    "fans = pd.DataFrame()\n",
    "\n",
    "fans['percent'] = [20,23,17,5] \n",
    "print('Mean: ' + str(np.mean(fans['percent'])))\n",
    "print('Median: ' + str(np.median(fans['percent'])))\n",
    "\n",
    "print('Variance: ' + str(np.var(fans['percent'])))\n",
    "print('Standard Dev.: ' + str(np.std(fans['percent'], ddof=1)))\n",
    "print('Standard Err.: ' + str(np.std(fans['percent'], ddof=1) / np.sqrt(len(fans['percent']))))"
   ]
  },
  {
   "cell_type": "code",
   "execution_count": 43,
   "metadata": {},
   "outputs": [
    {
     "data": {
      "text/plain": [
       "'Based on this data, I would look at the median poll and the standard error from each poll.   Median reduces the skew from the very low poll that would skew the mean lower.  Hence 18.5% of American adults were Brady Bunch fans with a standard polling error of +/- 4% (rounded up).  This gives us a wide 8pt percentage variance and accounts all of the polls - even the lower polls.  So in reality, I would say estimated 14.5% to 22.5% of American adults were fans of the Brady Bunch.'"
      ]
     },
     "execution_count": 43,
     "metadata": {},
     "output_type": "execute_result"
    }
   ],
   "source": [
    "\"\"\"Based on this data, I would look at the median poll and the standard error from each poll.   Median reduces the skew from the very low poll that would skew the mean lower.  Hence 18.5% of American adults were Brady Bunch fans with a standard polling error of +/- 4% (rounded up).  This gives us a wide 8pt percentage variance and accounts all of the polls - even the lower polls.  So in reality, I would say estimated 14.5% to 22.5% of American adults were fans of the Brady Bunch.\"\"\""
   ]
  },
  {
   "cell_type": "code",
   "execution_count": null,
   "metadata": {},
   "outputs": [],
   "source": []
  }
 ],
 "metadata": {
  "kernelspec": {
   "display_name": "Python 3",
   "language": "python",
   "name": "python3"
  },
  "language_info": {
   "codemirror_mode": {
    "name": "ipython",
    "version": 3
   },
   "file_extension": ".py",
   "mimetype": "text/x-python",
   "name": "python",
   "nbconvert_exporter": "python",
   "pygments_lexer": "ipython3",
   "version": "3.6.5"
  }
 },
 "nbformat": 4,
 "nbformat_minor": 2
}
