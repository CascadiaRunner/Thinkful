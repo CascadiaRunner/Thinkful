{
 "cells": [
  {
   "cell_type": "code",
   "execution_count": 1,
   "metadata": {},
   "outputs": [],
   "source": [
    "import numpy as np\n",
    "import pandas as pd\n",
    "import matplotlib.pyplot as plt\n",
    "%matplotlib inline"
   ]
  },
  {
   "cell_type": "markdown",
   "metadata": {},
   "source": [
    "Generate a random variable with 100 datapoints using the code distributionvar = np.random.distributionname([arguments], 100), replacing distributionvar with an appropriate variable name and distributionname with the name of the distribution you’ve chosen, and filling in the empty space in the parentheses with your chosen values for the appropriate parameters. If you feel uncertain about how to do this, go back to the “Other Distributions” assignment for examples of code to use as a starting point.\n"
   ]
  },
  {
   "cell_type": "code",
   "execution_count": 2,
   "metadata": {},
   "outputs": [],
   "source": [
    "bernoulli = np.random.binomial(1, 0.5, 100)\n",
    "binomial = np.random.binomial(10, 0.5, 100)\n",
    "uniform = np.random.uniform(10, 5, 100)\n",
    "exponential = np.random.exponential(10, 100)\n",
    "logistic = np.random.logistic(10, 0.5, 100)\n",
    "power = np.random.power(10, 100)"
   ]
  },
  {
   "cell_type": "markdown",
   "metadata": {},
   "source": [
    "Graph the variable using a histogram.\n",
    "\n",
    "Compute the mean and standard deviation and plot them as vertical lines on the histogram. (Hint: the “When Does It Break?” assignment you just completed can help you here.)\n",
    "\n",
    "Evaluate whether the descriptive statistics provided useful information about the variable. Can you identify any common characteristics of the distributions that could be usefully described using the mean and/or standard deviation, versus the ones that could not?"
   ]
  },
  {
   "cell_type": "code",
   "execution_count": 3,
   "metadata": {
    "scrolled": true
   },
   "outputs": [
    {
     "data": {
      "image/png": "[encoded data removed]",
      "text/plain": [
       "<Figure size 432x288 with 1 Axes>"
      ]
     },
     "metadata": {},
     "output_type": "display_data"
    },
    {
     "name": "stdout",
     "output_type": "stream",
     "text": [
      "0.49\n",
      "0.4998999899979995\n"
     ]
    },
    {
     "data": {
      "text/plain": [
       "'Bernoulli represents only 2 outcomes and each trial is independent like the result of a coin flip.'"
      ]
     },
     "execution_count": 3,
     "metadata": {},
     "output_type": "execute_result"
    }
   ],
   "source": [
    "#Bernoulli\n",
    "plt.hist(bernoulli, bins=10, color='c')\n",
    "plt.axvline(bernoulli.mean(), color='b', linestyle='solid', linewidth=2)\n",
    "plt.axvline(bernoulli.mean() + bernoulli.std(), color='b', linestyle='dashed', linewidth=2)\n",
    "plt.axvline(bernoulli.mean()-bernoulli.std(), color='b', linestyle='dashed', linewidth=2)\n",
    "plt.show()\n",
    "print(bernoulli.mean())\n",
    "print(bernoulli.std())\n",
    "\"\"\"Bernoulli represents only 2 outcomes and each trial is independent like the result of a coin flip.\"\"\"\n"
   ]
  },
  {
   "cell_type": "code",
   "execution_count": 4,
   "metadata": {},
   "outputs": [
    {
     "data": {
      "image/png": "[encoded data removed]",
      "text/plain": [
       "<Figure size 432x288 with 1 Axes>"
      ]
     },
     "metadata": {},
     "output_type": "display_data"
    },
    {
     "name": "stdout",
     "output_type": "stream",
     "text": [
      "4.88\n",
      "1.4985326155943353\n"
     ]
    },
    {
     "data": {
      "text/plain": [
       "'The distribution of Bimonial values tends to cluster around probability and then tapers off on either side.  This makes sense because each result is a trial based on that probability, hence the most values should be around the assigned probability. Someone can use this simulation to create a probability for certain criteria.'"
      ]
     },
     "execution_count": 4,
     "metadata": {},
     "output_type": "execute_result"
    }
   ],
   "source": [
    "#binomial\n",
    "plt.hist(binomial, bins=5, color='c')\n",
    "plt.axvline(binomial.mean(), color='b', linestyle='solid', linewidth=2)\n",
    "plt.axvline(binomial.mean() + binomial.std(), color='b', linestyle='dashed', linewidth=2)\n",
    "plt.axvline(binomial.mean()-binomial.std(), color='b', linestyle='dashed', linewidth=2)\n",
    "plt.show()\n",
    "print(binomial.mean())\n",
    "print(binomial.std())\n",
    "#print(binomial)\n",
    "#print(sum(binomial > 2)/100)\n",
    "\"\"\"The distribution of Bimonial values tends to cluster around probability and then tapers off on either side.  This makes sense because each result is a trial based on that probability, hence the most values should be around the assigned probability. Someone can use this simulation to create a probability for certain criteria.\"\"\""
   ]
  },
  {
   "cell_type": "code",
   "execution_count": 5,
   "metadata": {},
   "outputs": [
    {
     "data": {
      "image/png": "[encoded data removed]",
      "text/plain": [
       "<Figure size 432x288 with 1 Axes>"
      ]
     },
     "metadata": {},
     "output_type": "display_data"
    },
    {
     "name": "stdout",
     "output_type": "stream",
     "text": [
      "7.554522401662707\n",
      "1.4299888204598585\n"
     ]
    },
    {
     "data": {
      "text/plain": [
       "'Uniform distributions assume an number has an equal probability of being choosen at any time.'"
      ]
     },
     "execution_count": 5,
     "metadata": {},
     "output_type": "execute_result"
    }
   ],
   "source": [
    "#uniform\n",
    "plt.hist(uniform, bins=9, color='c')\n",
    "plt.axvline(uniform.mean(), color='b', linestyle='solid', linewidth=2)\n",
    "plt.axvline(uniform.mean() + uniform.std(), color='b', linestyle='dashed', linewidth=2)\n",
    "plt.axvline(uniform.mean()-uniform.std(), color='b', linestyle='dashed', linewidth=2)\n",
    "plt.show()\n",
    "print(uniform.mean())\n",
    "print(uniform.std())\n",
    "\"\"\"Uniform distributions assume an number has an equal probability of being choosen at any time.\"\"\""
   ]
  },
  {
   "cell_type": "code",
   "execution_count": 6,
   "metadata": {},
   "outputs": [
    {
     "data": {
      "image/png": "[encoded data removed]",
      "text/plain": [
       "<Figure size 432x288 with 1 Axes>"
      ]
     },
     "metadata": {},
     "output_type": "display_data"
    },
    {
     "name": "stdout",
     "output_type": "stream",
     "text": [
      "10.15932698181212\n",
      "9.523756606904387\n"
     ]
    },
    {
     "data": {
      "text/plain": [
       "'This distribution starts big large and then shrinks to very small and flat.'"
      ]
     },
     "execution_count": 6,
     "metadata": {},
     "output_type": "execute_result"
    }
   ],
   "source": [
    "#exponential \n",
    "plt.hist(exponential, bins=10, color='c')\n",
    "plt.axvline(exponential.mean(), color='b', linestyle='solid', linewidth=2)\n",
    "plt.axvline(exponential.mean() + exponential.std(), color='b', linestyle='dashed', linewidth=2)\n",
    "plt.axvline(exponential.mean()-exponential.std(), color='b', linestyle='dashed', linewidth=2)\n",
    "plt.show()\n",
    "print(exponential.mean())\n",
    "print(exponential.std())\n",
    "\"\"\"This distribution starts big large and then shrinks to very small and flat.\"\"\""
   ]
  },
  {
   "cell_type": "code",
   "execution_count": 7,
   "metadata": {},
   "outputs": [
    {
     "data": {
      "image/png": "[encoded data removed]",
      "text/plain": [
       "<Figure size 432x288 with 1 Axes>"
      ]
     },
     "metadata": {},
     "output_type": "display_data"
    },
    {
     "name": "stdout",
     "output_type": "stream",
     "text": [
      "10.064197263235405\n",
      "0.9548737752985575\n"
     ]
    }
   ],
   "source": [
    "#logistic\n",
    "plt.hist(logistic, bins=5, color='c')\n",
    "plt.axvline(logistic.mean(), color='b', linestyle='solid', linewidth=2)\n",
    "plt.axvline(logistic.mean() + logistic.std(), color='b', linestyle='dashed', linewidth=2)\n",
    "plt.axvline(logistic.mean()-logistic.std(), color='b', linestyle='dashed', linewidth=2)\n",
    "plt.show()\n",
    "print(logistic.mean())\n",
    "print(logistic.std())\n",
    "\"\"\"This data looks normal distributed with a small std().  Most of the values are close to the mean.\"\"\""
   ]
  },
  {
   "cell_type": "code",
   "execution_count": 8,
   "metadata": {},
   "outputs": [
    {
     "data": {
      "image/png": "[encoded data removed]",
      "text/plain": [
       "<Figure size 432x288 with 1 Axes>"
      ]
     },
     "metadata": {},
     "output_type": "display_data"
    },
    {
     "name": "stdout",
     "output_type": "stream",
     "text": [
      "0.9037551893266474\n",
      "0.08962004302956658\n"
     ]
    }
   ],
   "source": [
    "#power\n",
    "plt.hist(power, bins=5, color='c')\n",
    "plt.axvline(power.mean(), color='b', linestyle='solid', linewidth=2)\n",
    "plt.axvline(power.mean() + power.std(), color='b', linestyle='dashed', linewidth=2)\n",
    "plt.axvline(power.mean()-power.std(), color='b', linestyle='dashed', linewidth=2)\n",
    "plt.show()\n",
    "print(power.mean())\n",
    "print(power.std())\n",
    "\"\"\"Opposite of exponential.  This distribution is flat in the beginning then goes up significantly on the tail end.\"\"\""
   ]
  },
  {
   "cell_type": "markdown",
   "metadata": {},
   "source": [
    "Additionally:\n",
    "\n",
    "Generate two normally-distributed variables, one with a mean of 5 and standard deviation of 0.5, and the other with a mean of 10 and standard deviation of 1.\n",
    "\n",
    "Add them together to create a third variable.\n",
    "\n",
    "Graph the third variable using a histogram.\n",
    "\n",
    "Compute the mean and standard deviation and plot them as vertical lines on the histogram.\n",
    "\n",
    "Evaluate the descriptive statistics against the data."
   ]
  },
  {
   "cell_type": "code",
   "execution_count": 19,
   "metadata": {},
   "outputs": [
    {
     "name": "stdout",
     "output_type": "stream",
     "text": [
      "5.030871252200921\n",
      "10.020313923603181\n",
      "0.5137314099948911\n",
      "1.0287303224199973\n"
     ]
    }
   ],
   "source": [
    "pop1 = np.random.normal(5, 0.5, 100)\n",
    "pop2 = np.random.normal(10, 1, 100)"
   ]
  },
  {
   "cell_type": "code",
   "execution_count": 14,
   "metadata": {},
   "outputs": [],
   "source": [
    "pop3 = pop1 + pop2"
   ]
  },
  {
   "cell_type": "code",
   "execution_count": 18,
   "metadata": {},
   "outputs": [
    {
     "data": {
      "image/png": "[encoded data removed]",
      "text/plain": [
       "<Figure size 432x288 with 1 Axes>"
      ]
     },
     "metadata": {},
     "output_type": "display_data"
    },
    {
     "name": "stdout",
     "output_type": "stream",
     "text": [
      "15.139023514827645\n",
      "1.1780102086447075\n"
     ]
    }
   ],
   "source": [
    "plt.hist(pop3)\n",
    "plt.hist(pop3, bins=5, color='c')\n",
    "plt.axvline(pop3.mean(), color='b', linestyle='solid', linewidth=2)\n",
    "plt.axvline(pop3.mean() + pop3.std(), color='b', linestyle='dashed', linewidth=2)\n",
    "plt.axvline(pop3.mean()-pop3.std(), color='b', linestyle='dashed', linewidth=2)\n",
    "plt.show()\n",
    "print(pop3.mean())\n",
    "print(pop3.std())"
   ]
  },
  {
   "cell_type": "code",
   "execution_count": 20,
   "metadata": {},
   "outputs": [
    {
     "data": {
      "text/plain": [
       "'Adding the 2 datasets with a mean of 5 and 10 respectfully created a dataset with a mean of 15.  The standard deviations did not add together as cleanly as the means - pop3 has an std() of 1.17 while the added poputions has an std() of 0.5 and 1 respectively.  The data still looks to be normaly distributed although more flattened than the original 2 data sets hence the std() is larger with more values around the mean than the original datasets'"
      ]
     },
     "execution_count": 20,
     "metadata": {},
     "output_type": "execute_result"
    }
   ],
   "source": [
    "\"\"\"Adding the 2 datasets with a mean of 5 and 10 respectfully created a dataset with a mean of 15.  The standard deviations did not add together as cleanly as the means - pop3 has an std() of 1.17 while the added poputions has an std() of 0.5 and 1 respectively.  The data still looks to be normaly distributed although more flattened than the original 2 data sets hence the std() is larger with more values around the mean than the original datasets\"\"\""
   ]
  },
  {
   "cell_type": "code",
   "execution_count": null,
   "metadata": {},
   "outputs": [],
   "source": []
  }
 ],
 "metadata": {
  "kernelspec": {
   "display_name": "Python 3",
   "language": "python",
   "name": "python3"
  },
  "language_info": {
   "codemirror_mode": {
    "name": "ipython",
    "version": 3
   },
   "file_extension": ".py",
   "mimetype": "text/x-python",
   "name": "python",
   "nbconvert_exporter": "python",
   "pygments_lexer": "ipython3",
   "version": "3.6.5"
  }
 },
 "nbformat": 4,
 "nbformat_minor": 2
}
