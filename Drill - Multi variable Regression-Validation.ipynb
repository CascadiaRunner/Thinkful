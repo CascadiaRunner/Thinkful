{
 "cells": [
  {
   "cell_type": "code",
   "execution_count": 82,
   "metadata": {},
   "outputs": [],
   "source": [
    "# Ignore warnings\n",
    "import warnings\n",
    "warnings.filterwarnings('ignore')\n",
    "import pandas as pd\n",
    "import numpy as np\n",
    "import matplotlib.pyplot as plt\n",
    "import seaborn as sns\n",
    "import math"
   ]
  },
  {
   "cell_type": "code",
   "execution_count": 83,
   "metadata": {},
   "outputs": [],
   "source": [
    "df = pd.read_csv(\"C:\\\\Users\\\\Chris\\\\Documents\\\\Python Scripts\\\\Thinkful File Examples\\\\NEW_YORK-Offenses_Known_to_Law_Enforcement_by_City_2013 - 13tbl8ny.csv\", header=4)\n",
    "df2 = pd.read_excel(\"C:\\\\Users\\\\Chris\\\\Documents\\\\Python Scripts\\\\Thinkful File Examples\\\\Table_8_Offenses_Known_to_Law_Enforcement_by_New_York_by_City_2014.xls\", header=4)"
   ]
  },
  {
   "cell_type": "code",
   "execution_count": 84,
   "metadata": {},
   "outputs": [],
   "source": [
    "# data cleaning\n",
    "\n",
    "df['Population'] = df['Population'].str.replace(',', '')\n",
    "df['Robbery'] = df['Robbery'].str.replace(',', '')\n",
    "df['Property\\ncrime'] = df['Property\\ncrime'].str.replace(',', '')\n",
    "\n",
    "df['Population'] = pd.to_numeric(df['Population'])\n",
    "df['Population'] = df['Population']\n",
    "df['Property crime'] = pd.to_numeric(df['Property\\ncrime'])\n",
    "\n",
    "df = df.drop([348, 349, 350])\n",
    "df.fillna(0)\n",
    "df['Robbery'] = pd.to_numeric(df['Robbery'])"
   ]
  },
  {
   "cell_type": "code",
   "execution_count": 85,
   "metadata": {},
   "outputs": [],
   "source": [
    "# dataclean(df2)\n",
    "df2 = df2.drop(index=369)\n",
    "df2 = df2.drop(index=370)\n",
    "df2['Property crime'] = df2['Property\\ncrime']"
   ]
  },
  {
   "cell_type": "code",
   "execution_count": 86,
   "metadata": {
    "scrolled": true
   },
   "outputs": [],
   "source": [
    "# Creates features with Murder & Robbery > 1  being True with 1 and False 0 \n",
    "df['Murder'] = (df['Murder and\\nnonnegligent\\nmanslaughter'] == 0)\n",
    "df['Robbery_x'] = (df['Robbery'] == 0)\n",
    "df['Murder'] = pd.get_dummies(df['Murder'])\n",
    "df['Robbery_x'] = pd.get_dummies(df['Robbery_x'])\n",
    "df['Pop_squared'] = df['Population']**2\n",
    "\n",
    "#Created a Logrithmic Properity crime feature that helped property crime become more linear\n",
    "\n",
    "df.iloc[df.loc[df['Property crime']==0].index, df.columns.get_loc('Property crime')] = 1\n",
    "# df.iloc[0, df.columns.get_loc('COL_NAME')] = x\n",
    "df['Property crime_2'] = np.log(df['Property crime'].astype('float64'))"
   ]
  },
  {
   "cell_type": "code",
   "execution_count": 87,
   "metadata": {},
   "outputs": [],
   "source": [
    "df2.iloc[df2.loc[df2['Property crime']==0].index, df2.columns.get_loc('Property crime')] = 1\n",
    "\n",
    "# df.loc[df['Property crime']==0]\n",
    "# df = df.drop(index=df.loc[df['Property crime']==0].index)"
   ]
  },
  {
   "cell_type": "code",
   "execution_count": 89,
   "metadata": {},
   "outputs": [],
   "source": [
    "# drop NYC outlier\n",
    "df = df.drop(index=216)\n",
    "df2 = df.drop(index=227)"
   ]
  },
  {
   "cell_type": "code",
   "execution_count": 90,
   "metadata": {},
   "outputs": [],
   "source": [
    "from sklearn import linear_model\n",
    "import statsmodels.formula.api as smf\n",
    "# Function to instantiate and fit our model.\n",
    "def regress(df):\n",
    "    regr = linear_model.LinearRegression()\n",
    "    Y = df['Property crime']\n",
    "    # X = df[['Population','Pop_squared','Murder', 'Robbery_x']]\n",
    "    X = df[['Population','Murder and\\nnonnegligent\\nmanslaughter', 'Robbery']]\n",
    "    regr.fit(X, Y)\n",
    "    print('\\nCoefficients: \\n', regr.coef_ )\n",
    "    print('\\nIntercept: \\n', regr.intercept_ )\n",
    "    print('\\nR-squared:')\n",
    "    print(regr.score(X, Y))\n"
   ]
  },
  {
   "cell_type": "code",
   "execution_count": 91,
   "metadata": {
    "scrolled": true
   },
   "outputs": [
    {
     "name": "stdout",
     "output_type": "stream",
     "text": [
      "\n",
      "Coefficients: \n",
      " [1.58346761e-02 1.18435972e+02 2.02490402e+00]\n",
      "\n",
      "Intercept: \n",
      " 25.2447104393612\n",
      "\n",
      "R-squared:\n",
      "0.9305591974235127\n",
      "\n",
      "Coefficients: \n",
      " [1.58293189e-02 1.18428252e+02 2.02620077e+00]\n",
      "\n",
      "Intercept: \n",
      " 25.43214850988869\n",
      "\n",
      "R-squared:\n",
      "0.9305360353819127\n"
     ]
    }
   ],
   "source": [
    "# Run Regression on both data sets\n",
    "regress(df)\n",
    "regress(df2)\n"
   ]
  },
  {
   "cell_type": "code",
   "execution_count": 63,
   "metadata": {},
   "outputs": [
    {
     "data": {
      "text/plain": [
       "<matplotlib.collections.PathCollection at 0x204e2f54828>"
      ]
     },
     "execution_count": 63,
     "metadata": {},
     "output_type": "execute_result"
    },
    {
     "data": {
      "image/png": "[encoded data removed]",
      "text/plain": [
       "<Figure size 432x288 with 8 Axes>"
      ]
     },
     "metadata": {},
     "output_type": "display_data"
    }
   ],
   "source": [
    "# Testing the model\n",
    "# Linear Relationships\n",
    "\n",
    "f, axarr = plt.subplots(4,2)\n",
    "axarr[0,0].scatter(df['Property crime'], df['Population'])\n",
    "axarr[0,1].scatter(df['Property crime'], df['Pop_squared'])\n",
    "axarr[1,0].scatter(df['Property crime'], df['Murder and\\nnonnegligent\\nmanslaughter'])\n",
    "axarr[1,1].scatter(df['Property crime'], df['Robbery'])\n",
    "\n",
    "axarr[2,0].scatter(df2['Property crime'], df2['Population'])\n",
    "axarr[2,1].scatter(df2['Property crime'], df2['Pop_squared'])\n",
    "axarr[3,0].scatter(df2['Property crime'], df2['Murder and\\nnonnegligent\\nmanslaughter'])\n",
    "axarr[3,1].scatter(df2['Property crime'], df2['Robbery'])\n"
   ]
  },
  {
   "cell_type": "code",
   "execution_count": 81,
   "metadata": {},
   "outputs": [
    {
     "name": "stdout",
     "output_type": "stream",
     "text": [
      "\n",
      "Coefficients: \n",
      " [ 1.89797844e-02 -3.73701511e+02  1.91972515e+01]\n",
      "\n",
      "Intercept: \n",
      " -27.49724918591494\n",
      "\n",
      "R-squared:\n",
      "0.9868707810048604\n",
      "\n",
      "Coefficients: \n",
      " [ 1.72643806e-02 -6.88463680e+01  8.03016858e+00]\n",
      "\n",
      "Intercept: \n",
      " 6.631132606098049\n",
      "\n",
      "R-squared:\n",
      "0.8295455010296683\n",
      "\n",
      "Coefficients: \n",
      " [ 1.62778606e-02 -3.30080949e+01  2.49180200e+00]\n",
      "\n",
      "Intercept: \n",
      " 21.583084989634102\n",
      "\n",
      "R-squared:\n",
      "0.7198138175481431\n",
      "\n",
      "Coefficients: \n",
      " [ 1.14586471e-02 -5.49403432e+01  1.07124805e+01]\n",
      "\n",
      "Intercept: \n",
      " 58.896093462647684\n",
      "\n",
      "R-squared:\n",
      "0.9649424165332565\n",
      "\n",
      "Coefficients: \n",
      " [ 1.05191322e-02  2.51419329e+02 -1.23543161e+00]\n",
      "\n",
      "Intercept: \n",
      " 78.61254720163555\n",
      "\n",
      "R-squared:\n",
      "0.9210388034777087\n"
     ]
    }
   ],
   "source": [
    "# Cross Validation of 2013 data\n",
    "split = 5\n",
    "x=0\n",
    "while x < split:\n",
    "    total = df.shape\n",
    "    front = int((total[0] / split)*x)\n",
    "    back = int((total[0] / split)*(x+1))\n",
    "#     print(front, ' - ', back)\n",
    "    regress(df[front:back])\n",
    "\n",
    "#     print((y_pred[front:back] == target[front:back]).sum() / (y_pred[front:back] == target[front:back]).count())\n",
    "    x+=1\n"
   ]
  },
  {
   "cell_type": "code",
   "execution_count": 80,
   "metadata": {},
   "outputs": [
    {
     "name": "stdout",
     "output_type": "stream",
     "text": [
      "\n",
      "Coefficients: \n",
      " [ 1.89797844e-02 -3.73701511e+02  1.91972515e+01]\n",
      "\n",
      "Intercept: \n",
      " -27.49724918591494\n",
      "\n",
      "R-squared:\n",
      "0.9868707810048604\n",
      "\n",
      "Coefficients: \n",
      " [ 1.72643806e-02 -6.88463680e+01  8.03016858e+00]\n",
      "\n",
      "Intercept: \n",
      " 6.631132606098049\n",
      "\n",
      "R-squared:\n",
      "0.8295455010296683\n",
      "\n",
      "Coefficients: \n",
      " [ 1.63543780e-02 -3.23583885e+01  2.46052966e+00]\n",
      "\n",
      "Intercept: \n",
      " 18.666651744128643\n",
      "\n",
      "R-squared:\n",
      "0.7227495605315217\n",
      "\n",
      "Coefficients: \n",
      " [ 1.13617336e-02 -5.52335052e+01  1.07429791e+01]\n",
      "\n",
      "Intercept: \n",
      " 62.64185388395384\n",
      "\n",
      "R-squared:\n",
      "0.964837928112944\n",
      "\n",
      "Coefficients: \n",
      " [ 1.05191322e-02  2.51419329e+02 -1.23543161e+00]\n",
      "\n",
      "Intercept: \n",
      " 78.61254720163555\n",
      "\n",
      "R-squared:\n",
      "0.9210388034777087\n"
     ]
    }
   ],
   "source": [
    "# Cross Validation of 2013 data\n",
    "split = 5\n",
    "x=0\n",
    "while x < split:\n",
    "    total = df2.shape\n",
    "    front = int((total[0] / split)*x)\n",
    "    back = int((total[0] / split)*(x+1))\n",
    "#     print(front, ' - ', back)\n",
    "    regress(df2[front:back])\n",
    "\n",
    "#     print((y_pred[front:back] == target[front:back]).sum() / (y_pred[front:back] == target[front:back]).count())\n",
    "    x+=1"
   ]
  },
  {
   "cell_type": "markdown",
   "metadata": {},
   "source": [
    "In this challenge I am validating the results of my 2013 NY Crime data model. I trained 2013 NY crime data model and tested with the model with 2014 NY crime data.  \n",
    "\n",
    "I used 5 data folds to cross validate the data.  The result was R-squared figures of 0.98, 0.82, 0.72, 0.96 and 0.92 respectively.  These figures were almost identical in both models.  This could be because crime data from 2013 to 2014 was largely unchanged.  The variance in the 5 folds could be due to some overfitting of the model.  More research would need to be done to understand in the business case if this is an acceptable amount of variance."
   ]
  },
  {
   "cell_type": "code",
   "execution_count": null,
   "metadata": {},
   "outputs": [],
   "source": []
  },
  {
   "cell_type": "code",
   "execution_count": null,
   "metadata": {},
   "outputs": [],
   "source": []
  }
 ],
 "metadata": {
  "kernelspec": {
   "display_name": "Python 3",
   "language": "python",
   "name": "python3"
  },
  "language_info": {
   "codemirror_mode": {
    "name": "ipython",
    "version": 3
   },
   "file_extension": ".py",
   "mimetype": "text/x-python",
   "name": "python",
   "nbconvert_exporter": "python",
   "pygments_lexer": "ipython3",
   "version": "3.6.5"
  }
 },
 "nbformat": 4,
 "nbformat_minor": 2
}
